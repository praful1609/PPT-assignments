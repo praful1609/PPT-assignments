{
 "cells": [
  {
   "cell_type": "markdown",
   "id": "aa78e946",
   "metadata": {},
   "source": [
    "### Question 1\n",
    "\n",
    "Given two strings s and t, *determine if they are isomorphic*.\n",
    "\n",
    "Two strings s and t are isomorphic if the characters in s can be replaced to get t.\n",
    "\n",
    "All occurrences of a character must be replaced with another character while preserving the order of characters. No two characters may map to the same character, but a character may map to itself.\n",
    "\n",
    "**Example 1:**\n",
    "\n",
    "**Input:** s = \"egg\", t = \"add\"\n",
    "\n",
    "**Output:** true\n",
    "\n"
   ]
  },
  {
   "cell_type": "code",
   "execution_count": 1,
   "id": "66c31553",
   "metadata": {},
   "outputs": [],
   "source": [
    "def isomorphic_strings(s, t):\n",
    "    if len(s) != len(t):\n",
    "        return False\n",
    "    \n",
    "    mapping = {}\n",
    "    mapped_chars = set()\n",
    "    \n",
    "    for i in range(len(s)):\n",
    "        char_s = s[i]\n",
    "        char_t = t[i]\n",
    "        \n",
    "        if char_s in mapping:\n",
    "            if mapping[char_s] != char_t:\n",
    "                return False\n",
    "        else:\n",
    "            if char_t in mapped_chars:\n",
    "                return False\n",
    "            mapping[char_s] = char_t\n",
    "            mapped_chars.add(char_t)\n",
    "    \n",
    "    return True\n",
    "\n",
    "s = \"egg\"\n",
    "t = \"add\"\n",
    "print(isomorphic_strings(s, t))  # Output: True\n"
   ]
  },
  {
   "cell_type": "markdown",
   "id": "b6167dd5",
   "metadata": {},
   "source": [
    "### Explanation\n",
    "The code checks if the lengths of the two strings are equal. If not, it immediately returns False since isomorphic strings must have the same length.\n",
    "\n",
    "Then, it iterates through each character in the strings. For each character, it checks if there's already a mapping recorded. If there is, it verifies if the current character in t matches the expected mapping for that character in s. If not, it returns False.\n",
    "\n",
    "If there is no existing mapping for the current character in s, it checks if the current character in t has already been used as a mapping for another character. If so, it returns False.\n",
    "\n",
    "Otherwise, it adds the mapping between the current characters in s and t to the mapping dictionary, and records the current character in t as a mapped character in the mapped_chars set.\n",
    "\n",
    "Finally, if the code reaches the end of the loop without returning False, it means the strings are isomorphic, so it returns True.\n",
    "\n",
    "In the provided example, the output will be True since \"egg\" can be transformed into \"add\" by replacing 'e' with 'a' and 'g' with 'd'."
   ]
  },
  {
   "cell_type": "markdown",
   "id": "0f173fc2",
   "metadata": {},
   "source": [
    "### Question 2\n",
    "\n",
    "Given a string num which represents an integer, return true *if* num *is a **strobogrammatic number***.\n",
    "\n",
    "A **strobogrammatic number** is a number that looks the same when rotated 180 degrees (looked at upside down).\n",
    "\n",
    "**Example 1:**\n",
    "\n",
    "**Input:** num = \"69\"\n",
    "\n",
    "**Output:**\n",
    "\n",
    "true\n",
    "\n",
    "</aside>"
   ]
  },
  {
   "cell_type": "code",
   "execution_count": 2,
   "id": "4fef9efa",
   "metadata": {},
   "outputs": [],
   "source": [
    "def is_strobogrammatic(num):\n",
    "    strobogrammatic_pairs = {'0': '0', '1': '1', '6': '9', '8': '8', '9': '6'}\n",
    "    left, right = 0, len(num) - 1\n",
    "\n",
    "    while left <= right:\n",
    "        if num[left] not in strobogrammatic_pairs or num[right] not in strobogrammatic_pairs:\n",
    "            return False\n",
    "        if num[left] != strobogrammatic_pairs[num[right]]:\n",
    "            return False\n",
    "        left += 1\n",
    "        right -= 1\n",
    "\n",
    "    return True\n",
    "\n",
    "\n",
    "num = \"69\"\n",
    "print(is_strobogrammatic(num))  # Output: True\n"
   ]
  },
  {
   "cell_type": "markdown",
   "id": "feceb3d5",
   "metadata": {},
   "source": [
    "### Explanation\n",
    "The function is_strobogrammatic takes a string num as input. It initializes a dictionary strobogrammatic_pairs that stores the valid pairs of strobogrammatic numbers. For example, '0' maps to '0', '1' maps to '1', '6' maps to '9', '8' maps to '8', and '9' maps to '6'. It also initializes two pointers, left and right, which are used to compare the characters of num from the two ends.\n",
    "The code enters a while loop that continues as long as left is less than or equal to right. Inside the loop, it performs the following checks:\n",
    "\n",
    "It verifies if the characters at the current left and right indices of num are valid strobogrammatic numbers. If either of the characters is not present in the strobogrammatic_pairs dictionary, it means the number is not strobogrammatic, and the function returns False.\n",
    "\n",
    "It checks if the corresponding characters at left and right positions do not form a valid strobogrammatic pair. If the characters are not equal, it means the number is not strobogrammatic, and the function returns False.\n",
    "\n",
    "If both checks pass, it means the characters form a valid strobogrammatic pair, and the loop continues by incrementing left and decrementing right.\n",
    "\n",
    "Once the loop ends, if it reaches the end without encountering any invalid pairs, it means the number is strobogrammatic, so the function returns True.\n"
   ]
  },
  {
   "cell_type": "markdown",
   "id": "5f73cd8e",
   "metadata": {},
   "source": [
    "### Question 3\n",
    "\n",
    "Given two non-negative integers, num1 and num2 represented as string, return *the sum of* num1 *and* num2 *as a string*.\n",
    "\n",
    "You must solve the problem without using any built-in library for handling large integers (such as BigInteger). You must also not convert the inputs to integers directly.\n",
    "\n",
    "**Example 1:**\n",
    "\n",
    "**Input:** num1 = \"11\", num2 = \"123\"\n",
    "\n",
    "**Output:**\n",
    "\n",
    "\"134\n",
    "\n",
    "</aside>"
   ]
  },
  {
   "cell_type": "code",
   "execution_count": 3,
   "id": "fada5722",
   "metadata": {},
   "outputs": [],
   "source": [
    "def addStrings(num1, num2):\n",
    "    # Initialize variables\n",
    "    result = []\n",
    "    carry = 0\n",
    "    i = len(num1) - 1\n",
    "    j = len(num2) - 1\n",
    "    \n",
    "\n",
    "    while i >= 0 or j >= 0 or carry:\n",
    "        digit1 = int(num1[i]) if i >= 0 else 0\n",
    "        digit2 = int(num2[j]) if j >= 0 else 0\n",
    "        current_sum = digit1 + digit2 + carry\n",
    "        carry = current_sum // 10\n",
    "        digit_sum = current_sum % 10\n",
    "        result.append(str(digit_sum))\n",
    "        \n",
    "\n",
    "        i -= 1\n",
    "        j -= 1\n",
    "    \n",
    "\n",
    "    return ''.join(result[::-1])\n",
    "\n",
    "# Example usage\n",
    "num1 = \"11\"\n",
    "num2 = \"123\"\n",
    "print(addStrings(num1, num2))  # Output: \"134\"\n"
   ]
  },
  {
   "cell_type": "markdown",
   "id": "93922ce4",
   "metadata": {},
   "source": [
    "### Explanation\n",
    "The function addStrings takes two strings num1 and num2 as input. It initializes an empty list result to store the digits of the sum, carry to keep track of the carry during addition, and two indices i and j to iterate through num1 and num2, respectively, starting from the rightmost digits.\n",
    "The code enters a while loop that continues until both i and j become less than 0 (indicating that all digits of both numbers have been processed) and there is no carry left.\n",
    "\n",
    "Inside the loop, it performs the following steps for each digit position:\n",
    "\n",
    "It retrieves the digits digit1 and digit2 from num1 and num2, respectively. If there are no more digits in either string, it uses 0 as the default value.\n",
    "\n",
    "It calculates the sum current_sum of the current digits, along with the carry from the previous position.\n",
    "\n",
    "It updates the carry by dividing current_sum by 10 (integer division).\n",
    "\n",
    "It calculates the digit to be appended to the result by taking the remainder of current_sum when divided by 10.\n",
    "\n",
    "It converts the digit sum to a string and appends it to the result list.\n",
    "\n",
    "It decrements both i and j to move to the next digits in num1 and num2, respectively."
   ]
  },
  {
   "cell_type": "markdown",
   "id": "ef73c3c5",
   "metadata": {},
   "source": [
    "### Question 4\n",
    "\n",
    "Given a string s, reverse the order of characters in each word within a sentence while still preserving whitespace and initial word order.\n",
    "\n",
    "**Example 1:**\n",
    "\n",
    "**Input:** s = \"Let's take LeetCode contest\"\n",
    "\n",
    "**Output:** \"s'teL ekat edoCteeL tsetnoc\n",
    "\n",
    "</aside>"
   ]
  },
  {
   "cell_type": "code",
   "execution_count": 4,
   "id": "27f6057d",
   "metadata": {},
   "outputs": [],
   "source": [
    "def reverseWords(s):\n",
    "    words = s.split()  # Split the sentence into individual words\n",
    "    reversed_words = [word[::-1] for word in words]  # Reverse each word\n",
    "    reversed_sentence = ' '.join(reversed_words)  # Join the reversed words with whitespace\n",
    "    return reversed_sentence\n",
    "\n",
    "\n",
    "s = \"Let's take LeetCode contest\"\n",
    "print(reverseWords(s))\n"
   ]
  },
  {
   "cell_type": "markdown",
   "id": "94935851",
   "metadata": {},
   "source": [
    "### Explanation\n",
    "The function reverseWords takes a string s as input. It first uses the split() method to split the sentence into individual words. This creates a list words containing all the words in the sentence.\n",
    "\n",
    "Next, it uses a list comprehension to iterate over each word in words and reverses the order of characters in each word using the slicing technique word[::-1]. The reversed words are stored in the list reversed_words.\n",
    "\n",
    "Finally, it uses the join() method to join the reversed words with whitespace in between and assigns the result to reversed_sentence. It returns reversed_sentence, which is the final reversed sentence with the order of characters reversed in each word while preserving whitespace and initial word order."
   ]
  },
  {
   "cell_type": "markdown",
   "id": "c273e8ab",
   "metadata": {},
   "source": [
    "### Question 5\n",
    "\n",
    "Given a string s and an integer k, reverse the first k characters for every 2k characters counting from the start of the string.\n",
    "\n",
    "If there are fewer than k characters left, reverse all of them. If there are less than 2k but greater than or equal to k characters, then reverse the first k characters and leave the other as original.\n",
    "\n",
    "**Example 1:**\n",
    "\n",
    "**Input:** s = \"abcdefg\", k = 2\n",
    "\n",
    "**Output:**\n",
    "\n",
    "\"bacdfeg\"\n",
    "\n",
    "</aside>"
   ]
  },
  {
   "cell_type": "code",
   "execution_count": 5,
   "id": "66ef9a84",
   "metadata": {},
   "outputs": [],
   "source": [
    "def reverseStr(s, k):\n",
    "    result = ''\n",
    "    for i in range(0, len(s), 2 * k):\n",
    "        chunk = s[i:i + k][::-1]\n",
    "        chunk += s[i + k:i + 2 * k]\n",
    "        result += chunk\n",
    "    return result\n",
    "\n",
    "s = \"abcdefg\"\n",
    "k = 2\n",
    "print(reverseStr(s, k))\n"
   ]
  },
  {
   "cell_type": "markdown",
   "id": "c1f501fa",
   "metadata": {},
   "source": [
    "### Explanation\n",
    "The function reverseStr takes a string s and an integer k as input. It initializes an empty string result to store the final result.\n",
    "\n",
    "The code uses a for loop to iterate over the string s in steps of 2 * k, starting from index 0. This ensures that every 2k characters are considered.\n",
    "\n",
    "Inside the loop, it performs the following steps:\n",
    "\n",
    "It retrieves the chunk of characters from index i to index i + k using slicing (s[i:i + k]). This represents the first k characters that need to be reversed.\n",
    "\n",
    "It reverses the order of the first k characters using slicing with a step of -1 ([::-1]).\n",
    "\n",
    "It retrieves the remaining characters from index i + k to index i + 2 * k using slicing (s[i + k:i + 2 * k]). This represents the characters that come after the reversed chunk.\n",
    "\n",
    "It appends the reversed chunk and the remaining characters together and assigns it to the variable chunk.\n",
    "\n",
    "It appends the chunk to the result string.\n",
    "\n",
    "Once the loop completes, it means all the chunks have been processed. The function returns the result string, which contains the modified string with the first k characters reversed for every 2k characters."
   ]
  },
  {
   "cell_type": "markdown",
   "id": "3197be52",
   "metadata": {},
   "source": [
    "### Question 6\n",
    "\n",
    "Given two strings s and goal, return true *if and only if* s *can become* goal *after some number of **shifts** on* s.\n",
    "\n",
    "A **shift** on s consists of moving the leftmost character of s to the rightmost position.\n",
    "\n",
    "- For example, if s = \"abcde\", then it will be \"bcdea\" after one shift.\n",
    "\n",
    "**Example 1:**\n",
    "\n",
    "**Input:** s = \"abcde\", goal = \"cdeab\"\n",
    "\n",
    "**Output:**\n",
    "\n",
    "true\n",
    "\n",
    "</aside>"
   ]
  },
  {
   "cell_type": "code",
   "execution_count": 6,
   "id": "ccf46b46",
   "metadata": {},
   "outputs": [],
   "source": [
    "def rotateString(s, goal):\n",
    "    if len(s) != len(goal):\n",
    "        return False\n",
    "    if s == goal:\n",
    "        return True\n",
    "    for _ in range(len(s)):\n",
    "        s = s[1:] + s[0]\n",
    "        if s == goal:\n",
    "            return True\n",
    "    return False\n",
    "\n",
    "\n",
    "s = \"abcde\"\n",
    "goal = \"cdeab\"\n",
    "print(rotateString(s, goal))\n"
   ]
  },
  {
   "cell_type": "markdown",
   "id": "559bf23e",
   "metadata": {},
   "source": [
    "### Explanation\n",
    "The function rotateString takes two strings s and goal as input. It first checks if the lengths of s and goal are equal. If they are not equal, it means no number of shifts can make s equal to goal, so it immediately returns False.\n",
    "\n",
    "It also checks if s is already equal to goal. If they are equal, no shifts are needed, so it returns True indicating that s can become goal.\n",
    "Inside the for loop, the code performs the following steps for each iteration:\n",
    "\n",
    "It slices the string s from index 1 to the end (s[1:]) and appends the first character of s (s[0]) to the end. This simulates one shift operation on s.\n",
    "\n",
    "It checks if the updated s is equal to goal. If they are equal, it means s can become goal after some number of shifts, so it returns True.\n",
    "\n",
    "If the loop completes without finding a match, it means s cannot become goal after any number of shifts, so it returns False."
   ]
  },
  {
   "cell_type": "markdown",
   "id": "a199f202",
   "metadata": {},
   "source": [
    "### Question 7\n",
    "\n",
    "Given two strings s and t, return true *if they are equal when both are typed into empty text editors*. '#' means a backspace character.\n",
    "\n",
    "Note that after backspacing an empty text, the text will continue empty.\n",
    "\n",
    "**Example 1:**\n",
    "\n",
    "**Input:** s = \"ab#c\", t = \"ad#c\"\n",
    "\n",
    "**Output:** true\n",
    "\n",
    "**Explanation:**\n",
    "\n",
    "Both s and t become \"ac\".\n",
    "\n",
    "</aside>"
   ]
  },
  {
   "cell_type": "code",
   "execution_count": 7,
   "id": "4c9daee4",
   "metadata": {},
   "outputs": [],
   "source": [
    "def backspaceCompare(s, t):\n",
    "    def build_string(string):\n",
    "        stack = []\n",
    "        for char in string:\n",
    "            if char != '#':\n",
    "                stack.append(char)\n",
    "            elif stack:\n",
    "                stack.pop()\n",
    "        return ''.join(stack)\n",
    "\n",
    "    return build_string(s) == build_string(t)\n",
    "\n",
    "s = \"ab#c\"\n",
    "t = \"ad#c\"\n",
    "print(backspaceCompare(s, t))\n"
   ]
  },
  {
   "cell_type": "markdown",
   "id": "8fced18a",
   "metadata": {},
   "source": [
    "### Explanation\n",
    "The function backspaceCompare takes two strings s and t as input. It defines an inner function build_string that takes a string as input and processes it according to the backspace rule.\n",
    "\n",
    "Inside the build_string function, it initializes an empty stack to keep track of characters. It iterates over each character char in the input string.\n",
    "\n",
    "If char is not a backspace character ('#'), it appends it to the stack.\n",
    "\n",
    "If char is a backspace character and the stack is not empty, it pops (removes) the last character from the stack. This simulates the backspace operation by discarding the last entered character.\n",
    "\n",
    "After processing all the characters in the string, it joins the characters in the stack to form the final processed string and returns it.\n",
    "\n",
    "Finally, the backspaceCompare function returns True if the processed strings of s and t are equal (using the == operator) and False otherwise."
   ]
  },
  {
   "cell_type": "markdown",
   "id": "d877ff43",
   "metadata": {},
   "source": [
    "### Question 8\n",
    "\n",
    "You are given an array coordinates, coordinates[i] = [x, y], where [x, y] represents the coordinate of a point. Check if these points make a straight line in the XY plane\n",
    "\n",
    "**Input:** coordinates = [[1,2],[2,3],[3,4],[4,5],[5,6],[6,7]]\n",
    "\n",
    "**Output:** true\n"
   ]
  },
  {
   "cell_type": "code",
   "execution_count": 8,
   "id": "2e5fc34d",
   "metadata": {},
   "outputs": [],
   "source": [
    "def checkStraightLine(coordinates):\n",
    "    if len(coordinates) <= 2:\n",
    "        return True\n",
    "    \n",
    "    x0, y0 = coordinates[0]\n",
    "    x1, y1 = coordinates[1]\n",
    "    \n",
    "    for i in range(2, len(coordinates)):\n",
    "        x, y = coordinates[i]\n",
    "        if (y1 - y0) * (x - x0) != (y - y0) * (x1 - x0):\n",
    "            return False\n",
    "        \n",
    "    return True\n",
    "\n",
    "\n",
    "coordinates = [[1, 2], [2, 3], [3, 4], [4, 5], [5, 6], [6, 7]]\n",
    "print(checkStraightLine(coordinates))\n"
   ]
  },
  {
   "cell_type": "markdown",
   "id": "0621eb5b",
   "metadata": {},
   "source": [
    "### Explanation\n",
    "The function checkStraightLine takes an array coordinates as input. If the length of the array is less than or equal to 2, it means there are either 0 or 1 points, which by definition form a straight line. In such cases, it immediately returns True.\n",
    "\n",
    "The code extracts the x and y coordinates of the first two points in the array coordinates and assigns them to variables x0, y0, x1, and y1, respectively.\n",
    "\n",
    "The code then iterates over the remaining points starting from index 2. For each point [x, y], it checks if the slope between the first two points ((y1 - y0) / (x1 - x0)) is equal to the slope between the current point and the first point ((y - y0) / (x - x0)). If the slopes are not equal, it means the points are not collinear, and it immediately returns False."
   ]
  },
  {
   "cell_type": "code",
   "execution_count": null,
   "id": "a4975961",
   "metadata": {},
   "outputs": [],
   "source": []
  }
 ],
 "metadata": {
  "kernelspec": {
   "display_name": "Python 3 (ipykernel)",
   "language": "python",
   "name": "python3"
  },
  "language_info": {
   "codemirror_mode": {
    "name": "ipython",
    "version": 3
   },
   "file_extension": ".py",
   "mimetype": "text/x-python",
   "name": "python",
   "nbconvert_exporter": "python",
   "pygments_lexer": "ipython3",
   "version": "3.9.12"
  }
 },
 "nbformat": 4,
 "nbformat_minor": 5
}
