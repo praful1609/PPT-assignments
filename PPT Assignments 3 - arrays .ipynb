{
 "cells": [
  {
   "cell_type": "markdown",
   "id": "7cbf4e74",
   "metadata": {},
   "source": [
    "### Question 1\n",
    "Given an integer array nums of length n and an integer target, find three integers\n",
    "in nums such that the sum is closest to the target.\n",
    "Return the sum of the three integers.\n",
    "\n",
    "You may assume that each input would have exactly one solution.\n",
    "\n",
    "Example 1:\n",
    "Input: nums = [-1,2,1,-4], target = 1\n",
    "Output: 2\n",
    "\n",
    "Explanation: The sum that is closest to the target is 2. (-1 + 2 + 1 = 2)."
   ]
  },
  {
   "cell_type": "code",
   "execution_count": 1,
   "id": "6cfa8e4a",
   "metadata": {},
   "outputs": [],
   "source": [
    "def threeSumClosest(nums, target):\n",
    "    nums.sort()\n",
    "    n = len(nums)\n",
    "    closest_sum = float('inf')\n",
    "\n",
    "    for i in range(n - 2):\n",
    "        left = i + 1\n",
    "        right = n - 1\n",
    "\n",
    "        while left < right:\n",
    "            curr_sum = nums[i] + nums[left] + nums[right]\n",
    "\n",
    "            if curr_sum == target:\n",
    "                return target\n",
    "\n",
    "            if abs(curr_sum - target) < abs(closest_sum - target):\n",
    "                closest_sum = curr_sum\n",
    "\n",
    "            if curr_sum < target:\n",
    "                left += 1\n",
    "            else:\n",
    "                right -= 1\n",
    "\n",
    "    return closest_sum\n",
    "\n",
    "nums = [-1, 2, 1, -4]\n",
    "target = 1\n",
    "threeSumClosest(nums, target)"
   ]
  },
  {
   "cell_type": "markdown",
   "id": "fb667de9",
   "metadata": {},
   "source": [
    "### Explanation\n",
    "We start by `sorting` the input array nums in ascending order. Sorting the array helps us in applying the two-pointer approach efficiently.\n",
    "\n",
    "We initialize the variable `closest_sum` with positive infinity to keep track of the sum closest to the target.\n",
    "\n",
    "We iterate through the array using a loop from 0 to `n - 2` (where `n` is the length of the array). This ensures that we have enough elements remaining to form a triplet.\n",
    "\n",
    "Inside the loop, we set the left and right pointers to the elements adjacent to the current element at index `i`.\n",
    "\n",
    "We enter a while loop, which continues until the left and right pointers meet. During each iteration of the while loop, we calculate the current sum by adding the elements at indices `i`, `left`, and `right`.\n",
    "\n",
    "If the current sum is equal to the target, we return the target itself, as we have found a triplet with the exact sum.\n",
    "\n",
    "If the absolute difference between the current sum and the target is smaller than the absolute difference between the closest sum and the target, we update the `closest_sum` to the current sum.\n",
    "\n",
    "We then adjust the left and right pointers based on the current sum's value compared to the target. If the current sum is less than the target, we increment the left pointer to consider a larger element. Otherwise, if the current sum is greater than the target, we decrement the right pointer to consider a smaller element.\n",
    "\n",
    "After the loop ends, we return the `closest_sum`, which represents the sum of the three integers closest to the target."
   ]
  },
  {
   "cell_type": "markdown",
   "id": "ddf5b479",
   "metadata": {},
   "source": [
    "### Question 2\n",
    "Given an array nums of n integers, return an array of all the unique quadruplets\n",
    "[nums[a], nums[b], nums[c], nums[d]] such that:\n",
    "           ● 0 <= a, b, c, d < n\n",
    "           ● a, b, c, and d are distinct.\n",
    "           ● nums[a] + nums[b] + nums[c] + nums[d] == target\n",
    "\n",
    "You may return the answer in any order.\n",
    "\n",
    "Example 1:\n",
    "Input: nums = [1,0,-1,0,-2,2], target = 0\n",
    "Output: [[-2,-1,1,2],[-2,0,0,2],[-1,0,0,1]]"
   ]
  },
  {
   "cell_type": "code",
   "execution_count": 2,
   "id": "24f2e5ff",
   "metadata": {},
   "outputs": [
    {
     "data": {
      "text/plain": [
       "[[-2, -1, 1, 2], [-2, 0, 0, 2], [-1, 0, 0, 1]]"
      ]
     },
     "execution_count": 2,
     "metadata": {},
     "output_type": "execute_result"
    }
   ],
   "source": [
    "def fourSum(nums, target):\n",
    "    nums.sort()\n",
    "    n = len(nums)\n",
    "    result = []\n",
    "\n",
    "    for i in range(n - 3):\n",
    "        if i > 0 and nums[i] == nums[i - 1]:\n",
    "            continue\n",
    "\n",
    "        for j in range(i + 1, n - 2):\n",
    "            if j > i + 1 and nums[j] == nums[j - 1]:\n",
    "                continue\n",
    "\n",
    "            left = j + 1\n",
    "            right = n - 1\n",
    "\n",
    "            while left < right:\n",
    "                curr_sum = nums[i] + nums[j] + nums[left] + nums[right]\n",
    "\n",
    "                if curr_sum == target:\n",
    "                    result.append([nums[i], nums[j], nums[left], nums[right]])\n",
    "\n",
    "                    while left < right and nums[left] == nums[left + 1]:\n",
    "                        left += 1\n",
    "                    while left < right and nums[right] == nums[right - 1]:\n",
    "                        right -= 1\n",
    "\n",
    "                    left += 1\n",
    "                    right -= 1\n",
    "\n",
    "                elif curr_sum < target:\n",
    "                    left += 1\n",
    "                else:\n",
    "                    right -= 1\n",
    "\n",
    "    return result\n",
    "\n",
    "nums = [1,0,-1,0,-2,2]\n",
    "target = 0\n",
    "fourSum(nums, target)\n"
   ]
  },
  {
   "cell_type": "markdown",
   "id": "9ac80139",
   "metadata": {},
   "source": [
    "### Explanation\n",
    "We start by sorting the input array `nums` in ascending order. Sorting the array helps us in eliminating duplicate quadruplets and applying the two-pointer approach efficiently.\n",
    "\n",
    "We initialize an empty list `result` to store the unique quadruplets that sum up to the target.\n",
    "\n",
    "We iterate through the array using a loop from 0 to `n - 3` (where `n` is the length of the array). This ensures that we have enough elements remaining to form a quadruplet.\n",
    "\n",
    "Inside the outer loop, we check if the current element at index `i` is the same as the previous element. If it is, we skip the current iteration to avoid duplicates in the final result.\n",
    "\n",
    "Within the outer loop, we have another nested loop starting from `i + 1` to `n - 2`. This ensures that we consider all unique pairs of elements.\n",
    "\n",
    "Inside the nested loop, we check if the current element at index `j` is the same as the previous element. If it is, we skip the current iteration to avoid duplicates in the final result.\n",
    "\n",
    "We set the left and right pointers to the elements adjacent to the current element at index `j`.\n",
    "\n",
    "We enter a while loop, which continues until the left and right pointers meet. During each iteration of the while loop, we calculate the current sum by adding the elements at indices `i`, `j`, `left`, and `right`.\n",
    "\n",
    "If the current sum is equal to the target, we append the quadruplet [nums[i], nums[j], nums[left], nums[right]] to the result list.\n",
    "\n",
    "After finding a valid quadruplet, we increment the left pointer while skipping any duplicates, and decrement the right pointer while skipping any duplicates.\n",
    "\n",
    "If the current sum is less than the target, we increment the left pointer to consider a larger element. Otherwise, if the current sum is greater than the target, we decrement the right pointer to consider a smaller element.\n",
    "\n",
    "After the nested loops and while loop finish, we return the `result` list containing all the unique quadruplets that sum up to the target."
   ]
  },
  {
   "cell_type": "markdown",
   "id": "c558e14b",
   "metadata": {},
   "source": [
    "### Question 3\n",
    "A permutation of an array of integers is an arrangement of its members into a\n",
    "sequence or linear order.\n",
    "\n",
    "For example, for arr = [1,2,3], the following are all the permutations of arr:\n",
    "[1,2,3], [1,3,2], [2, 1, 3], [2, 3, 1], [3,1,2], [3,2,1].\n",
    "\n",
    "The next permutation of an array of integers is the next lexicographically greater\n",
    "permutation of its integer. More formally, if all the permutations of the array are\n",
    "sorted in one container according to their lexicographical order, then the next\n",
    "permutation of that array is the permutation that follows it in the sorted container.\n",
    "\n",
    "If such an arrangement is not possible, the array must be rearranged as the\n",
    "lowest possible order (i.e., sorted in ascending order).\n",
    "\n",
    "● For example, the next permutation of arr = [1,2,3] is [1,3,2].\n",
    "● Similarly, the next permutation of arr = [2,3,1] is [3,1,2].\n",
    "● While the next permutation of arr = [3,2,1] is [1,2,3] because [3,2,1] does not\n",
    "have a lexicographical larger rearrangement.\n",
    "\n",
    "Given an array of integers nums, find the next permutation of nums.\n",
    "The replacement must be in place and use only constant extra memory.\n",
    "\n",
    "**Example 1:**\n",
    "Input: nums = [1,2,3]\n",
    "Output: [1,3,2]\n"
   ]
  },
  {
   "cell_type": "code",
   "execution_count": 3,
   "id": "a02a0598",
   "metadata": {},
   "outputs": [
    {
     "data": {
      "text/plain": [
       "[1, 3, 2]"
      ]
     },
     "execution_count": 3,
     "metadata": {},
     "output_type": "execute_result"
    }
   ],
   "source": [
    "def nextPermutation(nums):\n",
    "    i = len(nums) - 2\n",
    "    while i >= 0 and nums[i] >= nums[i+1]:\n",
    "        i -= 1\n",
    "    \n",
    "    if i >= 0:\n",
    "        j = len(nums) - 1\n",
    "        while j > i and nums[j] <= nums[i]:\n",
    "            j -= 1\n",
    "        nums[i], nums[j] = nums[j], nums[i]\n",
    "    left = i + 1\n",
    "    right = len(nums) - 1\n",
    "    while left < right:\n",
    "        nums[left], nums[right] = nums[right], nums[left]\n",
    "        left += 1\n",
    "        right -= 1\n",
    "\n",
    "    return nums\n",
    "\n",
    "nums = [1,2,3]\n",
    "nextPermutation(nums)"
   ]
  },
  {
   "cell_type": "markdown",
   "id": "d10a9a03",
   "metadata": {},
   "source": [
    "### Explanation\n",
    "We start by finding the first pair from the right where `nums[i] < nums[i+1]` in order to identify the element to be replaced. If no such pair is found, we move to step 2.\n",
    "\n",
    "If a pair is found in step 1, we proceed to find the smallest element greater than `nums[i]` from the right end.\n",
    "\n",
    "Once we find the smallest element greater than `nums[i]`, we swap it with `nums[i]` to ensure the next lexicographically greater permutation.\n",
    "\n",
    "Finally, we reverse the subarray to the right of `nums[i]` to guarantee that it is in ascending order. This step is crucial for generating the next permutation."
   ]
  },
  {
   "cell_type": "markdown",
   "id": "a4ebb92a",
   "metadata": {},
   "source": [
    "### Question 4\n",
    "Given a sorted array of distinct integers and a target value, return the index if the\n",
    "target is found. If not, return the index where it would be if it were inserted in\n",
    "order.\n",
    "\n",
    "You must write an algorithm with O(log n) runtime complexity.\n",
    "\n",
    "Example 1:\n",
    "Input: nums = [1,3,5,6], target = 5\n",
    "Output: 2"
   ]
  },
  {
   "cell_type": "code",
   "execution_count": 4,
   "id": "7208eb40",
   "metadata": {},
   "outputs": [
    {
     "data": {
      "text/plain": [
       "2"
      ]
     },
     "execution_count": 4,
     "metadata": {},
     "output_type": "execute_result"
    }
   ],
   "source": [
    "def searchInsert(nums, target):\n",
    "    left = 0\n",
    "    right = len(nums) - 1\n",
    "\n",
    "    while left <= right:\n",
    "        mid = (left + right) // 2\n",
    "\n",
    "        if nums[mid] == target:\n",
    "            return mid\n",
    "\n",
    "        if nums[mid] < target:\n",
    "            left = mid + 1\n",
    "        else:\n",
    "            right = mid - 1\n",
    "\n",
    "    return left\n",
    "\n",
    "nums = [1,3,5,6]\n",
    "target = 5\n",
    "searchInsert(nums, target)"
   ]
  },
  {
   "cell_type": "markdown",
   "id": "923be7ec",
   "metadata": {},
   "source": [
    "### Explanation\n",
    "We initialize the left pointer to 0, representing the start of the array, and the right pointer to `len(nums) - 1`, representing the end of the array.\n",
    "\n",
    "We enter a while loop, which continues until the left pointer is less than or equal to the right pointer.\n",
    "\n",
    "Inside the loop, we calculate the middle index using the formula `(left + right) // 2`. This ensures that we divide the search space in half at each iteration.\n",
    "\n",
    "We compare the value at the middle index `nums[mid]` with the target value.\n",
    "\n",
    "If `nums[mid]` is equal to the target, it means we have found the target in the array, and we return the index `mid`.\n",
    "\n",
    "If `nums[mid]` is less than the target, it means the target should be located to the right of the middle element. So, we update the left pointer to `mid + 1` and continue the search in the right half of the array.\n",
    "\n",
    "If `nums[mid]` is greater than the target, it means the target should be located to the left of the middle element. So, we update the right pointer to `mid - 1` and continue the search in the left half of the array.\n",
    "\n",
    "After the loop ends, we return the left pointer as the insertion index for the target. This is because if the target is not found in the array, the left pointer will be pointing to the correct position where the target would be inserted to maintain the sorted order.\n"
   ]
  },
  {
   "cell_type": "markdown",
   "id": "3b205137",
   "metadata": {},
   "source": [
    "### Question 5\n",
    "You are given a large integer represented as an integer array digits, where each\n",
    "digits[i] is the ith digit of the integer. The digits are ordered from most significant\n",
    "to least significant in left-to-right order. The large integer does not contain any\n",
    "leading 0's.\n",
    "\n",
    "Increment the large integer by one and return the resulting array of digits.\n",
    "\n",
    "**Example 1:**\n",
    "Input: digits = [1,2,3]\n",
    "Output: [1,2,4]\n",
    "\n",
    "**Explanation:** The array represents the integer 123.\n",
    "Incrementing by one gives 123 + 1 = 124.\n",
    "Thus, the result should be [1,2,4].\n"
   ]
  },
  {
   "cell_type": "code",
   "execution_count": 5,
   "id": "154aadfa",
   "metadata": {},
   "outputs": [
    {
     "data": {
      "text/plain": [
       "[1, 2, 4]"
      ]
     },
     "execution_count": 5,
     "metadata": {},
     "output_type": "execute_result"
    }
   ],
   "source": [
    "def plusOne(digits):\n",
    "    n = len(digits)\n",
    "    carry = 1\n",
    "\n",
    "    for i in range(n - 1, -1, -1):\n",
    "        digits[i] += carry\n",
    "        if digits[i] < 10:\n",
    "            return digits\n",
    "        digits[i] = 0\n",
    "\n",
    "    return [1] + digits\n",
    "\n",
    "digits = [1,2,3]\n",
    "plusOne(digits)"
   ]
  },
  {
   "cell_type": "markdown",
   "id": "ef86f4b1",
   "metadata": {},
   "source": [
    "### Question 6\n",
    "Given a non-empty array of integers nums, every element appears twice except\n",
    "for one. Find that single one.\n",
    "\n",
    "You must implement a solution with a linear runtime complexity and use only\n",
    "constant extra space.\n",
    "\n",
    "Example 1:\n",
    "Input: nums = [2,2,1]\n",
    "Output: 1"
   ]
  },
  {
   "cell_type": "code",
   "execution_count": 6,
   "id": "ffbf7d3e",
   "metadata": {},
   "outputs": [
    {
     "data": {
      "text/plain": [
       "1"
      ]
     },
     "execution_count": 6,
     "metadata": {},
     "output_type": "execute_result"
    }
   ],
   "source": [
    "def singleNumber(nums):\n",
    "    result = 0\n",
    "    for num in nums:\n",
    "        result ^= num\n",
    "    return result\n",
    "\n",
    "nums= [2,2,1]\n",
    "singleNumber(nums)"
   ]
  },
  {
   "cell_type": "markdown",
   "id": "51a69eb6",
   "metadata": {},
   "source": [
    "### Explanation\n",
    "We initialize the `result` variable to 0. This variable will store the XOR of all the elements in the array.\n",
    "\n",
    "We iterate through each element `num` in the array `nums`.\n",
    "\n",
    "For each element, we perform the XOR operation between `result` and `num`, and update the `result` variable with the result of the XOR operation. This effectively cancels out the pairs of numbers and leaves us with the single element that appears only once.\n",
    "\n",
    "After iterating through all the elements, the value of `result` will be the single element that appears only once.\n",
    "\n",
    "This solution has a linear runtime complexity of O(n) since we iterate through each element in the array once, where n is the length of the input array nums. Additionally, it uses constant extra space since it only requires a single variable (result) to store the XOR result."
   ]
  },
  {
   "cell_type": "markdown",
   "id": "da1e7f24",
   "metadata": {},
   "source": [
    "### Question 7\n",
    "You are given an inclusive range [lower, upper] and a sorted unique integer array\n",
    "nums, where all elements are within the inclusive range.\n",
    "\n",
    "A number x is considered missing if x is in the range [lower, upper] and x is not in\n",
    "nums.\n",
    "\n",
    "Return the shortest sorted list of ranges that exactly covers all the missing\n",
    "numbers. That is, no element of nums is included in any of the ranges, and each\n",
    "missing number is covered by one of the ranges.\n",
    "\n",
    "Example 1:\n",
    "Input: nums = [0,1,3,50,75], lower = 0, upper = 99\n",
    "Output: [[2,2],[4,49],[51,74],[76,99]]\n",
    "\n",
    "Explanation: The ranges are:\n",
    "[2,2]\n",
    "[4,49]\n",
    "[51,74]\n",
    "[76,99]"
   ]
  },
  {
   "cell_type": "code",
   "execution_count": 7,
   "id": "5dad09f9",
   "metadata": {},
   "outputs": [
    {
     "data": {
      "text/plain": [
       "[[2, 2], [4, 49], [51, 74], [76, 99]]"
      ]
     },
     "execution_count": 7,
     "metadata": {},
     "output_type": "execute_result"
    }
   ],
   "source": [
    "def findMissingRanges(nums, lower, upper):\n",
    "    missing_ranges = []\n",
    "    start = lower\n",
    "\n",
    "    for num in nums:\n",
    "        if num > start:\n",
    "            missing_ranges.append([start, num - 1])\n",
    "        start = num + 1\n",
    "\n",
    "    if start <= upper:\n",
    "        missing_ranges.append([start, upper])\n",
    "\n",
    "    return missing_ranges\n",
    "\n",
    "nums = [0,1,3,50,75]\n",
    "lower = 0\n",
    "upper = 99 \n",
    "findMissingRanges(nums, lower, upper)"
   ]
  },
  {
   "cell_type": "markdown",
   "id": "ac2dbc54",
   "metadata": {},
   "source": [
    "### Explanation\n",
    "We start by initializing an empty list `missing_ranges` that will store the ranges of missing numbers.\n",
    "\n",
    "We initialize a variable `start` to the lower limit of the range.\n",
    "\n",
    "We iterate through each number `num` in the given array `nums`.\n",
    "\n",
    "For each `num`, we check if it is greater than the current `start`. If it is, it means there is a missing range between `start` and `num`. We add this range to the `missing_ranges` list using the getRange function.\n",
    "\n",
    "After processing the current `num`, we update the start variable to `num + 1`.\n",
    "\n",
    "After iterating through all the numbers in `nums`, we check if there are any missing numbers remaining after the last number in the array. If `start` is less than or equal to the upper limit, it means there is a missing range from `start` to the upper limit. We add this range to the `missing_ranges` list.\n",
    "\n",
    "Finally, we return the `missing_ranges` list, which contains the shortest sorted list of ranges that cover all the missing numbers."
   ]
  },
  {
   "cell_type": "markdown",
   "id": "24a4e03a",
   "metadata": {},
   "source": [
    "### Question 8\n",
    "Given an array of meeting time intervals where intervals[i] = [starti, endi],\n",
    "determine if a person could attend all meetings.\n",
    "\n",
    "Example 1:\n",
    "Input: intervals = [[0,30],[5,10],[15,20]]\n",
    "Output: false"
   ]
  },
  {
   "cell_type": "code",
   "execution_count": 8,
   "id": "2b5b5288",
   "metadata": {},
   "outputs": [
    {
     "data": {
      "text/plain": [
       "False"
      ]
     },
     "execution_count": 8,
     "metadata": {},
     "output_type": "execute_result"
    }
   ],
   "source": [
    "def canAttendMeetings(intervals):\n",
    "    intervals.sort(key=lambda x: x[0])  # Sort intervals by start time\n",
    "\n",
    "    for i in range(1, len(intervals)):\n",
    "        if intervals[i][0] < intervals[i-1][1]:\n",
    "            return False\n",
    "\n",
    "    return True\n",
    "intervals = [[0,30],[5,10],[15,20]]\n",
    "canAttendMeetings(intervals)"
   ]
  },
  {
   "cell_type": "markdown",
   "id": "8183a683",
   "metadata": {},
   "source": [
    "### Explanation\n",
    "We start by sorting the intervals in ascending order based on their start time. This step ensures that we can compare adjacent intervals effectively.\n",
    "\n",
    "We iterate through the sorted intervals starting from the second interval (index 1) using a for loop.\n",
    "\n",
    "For each interval at index `i`, we compare its start time `intervals[i][0]` with the end time of the previous interval `intervals[i-1][1]`. If the start time of the current interval is less than the end time of the previous interval, it means there is an overlap, and the person cannot attend all the meetings. In such a case, we return `False`.\n",
    "\n",
    "If we reach the end of the loop without finding any overlaps, it means the person can attend all the meetings. In this case, we return `True`."
   ]
  },
  {
   "cell_type": "code",
   "execution_count": null,
   "id": "e8c934ce",
   "metadata": {},
   "outputs": [],
   "source": []
  },
  {
   "cell_type": "code",
   "execution_count": null,
   "id": "25bd2624",
   "metadata": {},
   "outputs": [],
   "source": []
  }
 ],
 "metadata": {
  "kernelspec": {
   "display_name": "Python 3 (ipykernel)",
   "language": "python",
   "name": "python3"
  },
  "language_info": {
   "codemirror_mode": {
    "name": "ipython",
    "version": 3
   },
   "file_extension": ".py",
   "mimetype": "text/x-python",
   "name": "python",
   "nbconvert_exporter": "python",
   "pygments_lexer": "ipython3",
   "version": "3.9.12"
  }
 },
 "nbformat": 4,
 "nbformat_minor": 5
}
