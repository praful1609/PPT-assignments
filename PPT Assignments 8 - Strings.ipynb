{
 "cells": [
  {
   "cell_type": "markdown",
   "id": "d3e16aa3",
   "metadata": {},
   "source": [
    "### Question 1\n",
    "\n",
    "Given two strings s1 and s2, return *the lowest **ASCII** sum of deleted characters to make two strings equal*.\n",
    "\n",
    "**Example 1:**\n",
    "\n",
    "**Input:** s1 = \"sea\", s2 = \"eat\"\n",
    "\n",
    "**Output:** 231\n",
    "\n",
    "**Explanation:** Deleting \"s\" from \"sea\" adds the ASCII value of \"s\" (115) to the sum.\n",
    "\n",
    "Deleting \"t\" from \"eat\" adds 116 to the sum.\n",
    "\n",
    "At the end, both strings are equal, and 115 + 116 = 231 is the minimum sum possible to achieve this\n",
    "\n",
    "</aside>"
   ]
  },
  {
   "cell_type": "code",
   "execution_count": 1,
   "id": "611e4394",
   "metadata": {},
   "outputs": [
    {
     "data": {
      "text/plain": [
       "231"
      ]
     },
     "execution_count": 1,
     "metadata": {},
     "output_type": "execute_result"
    }
   ],
   "source": [
    "def minimumDeleteSum(s1, s2):\n",
    "    m, n = len(s1), len(s2)\n",
    "\n",
    "    dp = [[0] * (n + 1) for _ in range(m + 1)]\n",
    "\n",
    "    for i in range(1, m + 1):\n",
    "        dp[i][0] = dp[i-1][0] + ord(s1[i-1])\n",
    "    for j in range(1, n + 1):\n",
    "        dp[0][j] = dp[0][j-1] + ord(s2[j-1])\n",
    "\n",
    "    for i in range(1, m + 1):\n",
    "        for j in range(1, n + 1):\n",
    "            if s1[i-1] == s2[j-1]:\n",
    "                dp[i][j] = dp[i-1][j-1]\n",
    "            else:\n",
    "                dp[i][j] = min(dp[i-1][j] + ord(s1[i-1]), dp[i][j-1] + ord(s2[j-1]))\n",
    "\n",
    "    return dp[m][n]\n",
    "\n",
    "s1 = \"sea\"\n",
    "s2 = \"eat\"\n",
    "minimumDeleteSum(s1, s2)"
   ]
  },
  {
   "cell_type": "markdown",
   "id": "c845375f",
   "metadata": {},
   "source": [
    "### Explanation\n",
    "We initialize m and n as the lengths of s1 and s2, respectively.\n",
    "\n",
    "We create a 2D array dp with dimensions (m + 1) × (n + 1). This array will store the minimum ASCII sum of deleted characters to make two prefixes of s1 and s2 equal.\n",
    "\n",
    "We fill the first row and column of dp using the following logic:\n",
    "dp[i][0] represents the minimum ASCII sum required to delete characters from the prefix of s1 to make it empty. We calculate this by summing the ASCII values of each character in the prefix.\n",
    "\n",
    "dp[0][j] represents the minimum ASCII sum required to delete characters from the prefix of s2 to make it empty. We calculate this in a similar way.\n",
    "\n",
    "We iterate through the rest of the array dp using two nested loops. For each position (i, j), we compare the characters s1[i-1] and s2[j-1] (subtracting 1 since dp has an extra row and column for empty prefixes).\n",
    "\n",
    "If the characters are equal, we can make the current prefixes equal without any additional deletions. Thus, dp[i][j] is set to dp[i-1][j-1].\n",
    "\n",
    "If the characters are different, we have two options: delete s1[i-1] or delete s2[j-1]. We choose the option with the minimum ASCII sum, which is given by min(dp[i-1][j] + ord(s1[i-1]), dp[i][j-1] + ord(s2[j-1])).\n",
    "\n",
    "Finally, the value in the bottom-right corner of the dp array (dp[m][n]) represents the minimum ASCII sum of deleted characters to make both strings equal."
   ]
  },
  {
   "cell_type": "markdown",
   "id": "339b30ba",
   "metadata": {},
   "source": [
    "### Question 2\n",
    "\n",
    "Given a string s containing only three types of characters: '(', ')' and '*', return true *if* s *is **valid***.\n",
    "\n",
    "The following rules define a **valid** string:\n",
    "\n",
    "- Any left parenthesis '(' must have a corresponding right parenthesis ')'.\n",
    "- Any right parenthesis ')' must have a corresponding left parenthesis '('.\n",
    "- Left parenthesis '(' must go before the corresponding right parenthesis ')'.\n",
    "- '*' could be treated as a single right parenthesis ')' or a single left parenthesis '(' or an empty string \"\".\n",
    "\n",
    "**Example 1:**\n",
    "\n",
    "**Input:** s = \"()\"\n",
    "\n",
    "**Output:**\n",
    "\n",
    "true\n",
    "\n",
    "</aside>"
   ]
  },
  {
   "cell_type": "code",
   "execution_count": 2,
   "id": "8fc67c24",
   "metadata": {},
   "outputs": [
    {
     "data": {
      "text/plain": [
       "True"
      ]
     },
     "execution_count": 2,
     "metadata": {},
     "output_type": "execute_result"
    }
   ],
   "source": [
    "def isValid(s):\n",
    "    stack = []\n",
    "    asterisks = []\n",
    "\n",
    "    for char in s:\n",
    "        if char == '(':\n",
    "            stack.append(char)\n",
    "        elif char == '*':\n",
    "            asterisks.append(char)\n",
    "        elif char == ')':\n",
    "            if stack:\n",
    "                stack.pop()\n",
    "            elif asterisks:\n",
    "                asterisks.pop()\n",
    "            else:\n",
    "                return False\n",
    "\n",
    "    while stack and asterisks:\n",
    "        if stack[-1] > asterisks[-1]:\n",
    "            return False\n",
    "        stack.pop()\n",
    "        asterisks.pop()\n",
    "\n",
    "    return len(stack) == 0\n",
    "s = \"()\"\n",
    "isValid(s)"
   ]
  },
  {
   "cell_type": "markdown",
   "id": "8b2d2022",
   "metadata": {},
   "source": [
    "### Explanation\n",
    "We initialize an empty stack to keep track of opening parentheses and an empty list asterisks to store asterisks encountered.\n",
    "\n",
    "We iterate through each character char in the given string s.\n",
    "\n",
    "If char is an opening parenthesis '(', we push it onto the stack.\n",
    "\n",
    "If char is an asterisk '*', we append it to the asterisks list.\n",
    "\n",
    "If char is a closing parenthesis ')', we check the following:\n",
    "If the stack is non-empty, we pop an opening parenthesis from the stack, as it matches the current closing parenthesis.\n",
    "\n",
    "If the stack is empty but we have asterisks in the asterisks list, we use an asterisk as a matching opening parenthesis.\n",
    "\n",
    "If both the stack and asterisks list are empty, there is no valid opening parenthesis for the current closing parenthesis, so the string is invalid. We return False.\n",
    "\n",
    "After iterating through all characters in s, we handle the remaining opening parentheses and asterisks, if any.\n",
    "\n",
    "While both the stack and asterisks list are non-empty, we compare the top elements of the stack and asterisks list.\n",
    "\n",
    "If the opening parenthesis in the stack has a higher ASCII value than the asterisk, it means there is no valid closing parenthesis for the opening parenthesis. Thus, the string is invalid, and we return False.\n",
    "\n",
    "Otherwise, we pop both the stack and asterisks list, as they form a valid pair.\n",
    "\n",
    "Finally, we check if the stack is empty. If it is, all opening parentheses have valid corresponding closing parentheses or asterisks. We return True. Otherwise, there are unmatched opening parentheses, making the string invalid. We return False."
   ]
  },
  {
   "cell_type": "markdown",
   "id": "85267f88",
   "metadata": {},
   "source": [
    "### Question 3\n",
    "\n",
    "Given two strings word1 and word2, return *the minimum number of **steps** required to make* word1 *and* word2 *the same*.\n",
    "\n",
    "In one **step**, you can delete exactly one character in either string.\n",
    "\n",
    "**Example 1:**\n",
    "\n",
    "**Input:** word1 = \"sea\", word2 = \"eat\"\n",
    "\n",
    "**Output:** 2\n",
    "\n",
    "**Explanation:** You need one step to make \"sea\" to \"ea\" and another step to make \"eat\" to \"ea\".\n",
    "\n",
    "</aside>"
   ]
  },
  {
   "cell_type": "code",
   "execution_count": 3,
   "id": "de36b7be",
   "metadata": {},
   "outputs": [
    {
     "data": {
      "text/plain": [
       "2"
      ]
     },
     "execution_count": 3,
     "metadata": {},
     "output_type": "execute_result"
    }
   ],
   "source": [
    "def minDistance(word1, word2):\n",
    "    m, n = len(word1), len(word2)\n",
    "\n",
    "    dp = [[0] * (n + 1) for _ in range(m + 1)]\n",
    "\n",
    "    for i in range(1, m + 1):\n",
    "        dp[i][0] = dp[i-1][0] + 1\n",
    "    for j in range(1, n + 1):\n",
    "        dp[0][j] = dp[0][j-1] + 1\n",
    "\n",
    "    for i in range(1, m + 1):\n",
    "        for j in range(1, n + 1):\n",
    "            if word1[i-1] == word2[j-1]:\n",
    "                dp[i][j] = dp[i-1][j-1]\n",
    "            else:\n",
    "                dp[i][j] = min(dp[i-1][j] + 1, dp[i][j-1] + 1)\n",
    "\n",
    "    return dp[m][n]\n",
    "\n",
    "word1 = \"sea\"\n",
    "word2 = \"eat\"\n",
    "minDistance(word1, word2)\n"
   ]
  },
  {
   "cell_type": "markdown",
   "id": "c9e1c593",
   "metadata": {},
   "source": [
    "### Explanation\n",
    "We initialize m and n as the lengths of word1 and word2, respectively.\n",
    "\n",
    "We create a 2D array dp with dimensions (m + 1) × (n + 1). This array will store the minimum number of steps required to make the prefixes of word1 and word2 equal.\n",
    "\n",
    "We fill the first row and column of dp using the following logic:\n",
    "dp[i][0] represents the minimum number of steps required to delete all characters in the prefix of word1 up to position i to make it empty. We calculate this by adding 1 to the previous value in the same column.\n",
    "\n",
    "dp[0][j] represents the minimum number of steps required to delete all characters in the prefix of word2 up to position j to make it empty. We calculate this in a similar way.\n",
    "\n",
    "We iterate through the rest of the array dp using two nested loops. For each position (i, j), we compare the characters word1[i-1] and word2[j-1] (subtracting 1 since dp has an extra row and column for empty prefixes).\n",
    "\n",
    "If the characters are equal, we can make the current prefixes equal without any additional deletions. Thus, dp[i][j] is set to dp[i-1][j-1].\n",
    "\n",
    "If the characters are different, we have two options: delete the character in word1 or delete the character in word2. We choose the option with the minimum number of steps, which is given by min(dp[i-1][j] + 1, dp[i][j-1] + 1).\n",
    "\n",
    "Finally, the value in the bottom-right corner of the dp array (dp[m][n]) represents the minimum number of steps required to make both strings equal."
   ]
  },
  {
   "cell_type": "markdown",
   "id": "d25d2aea",
   "metadata": {},
   "source": [
    "### Question 4\n",
    "\n",
    "You need to construct a binary tree from a string consisting of parenthesis and integers.\n",
    "\n",
    "The whole input represents a binary tree. It contains an integer followed by zero, one or two pairs of parenthesis. The integer represents the root's value and a pair of parenthesis contains a child binary tree with the same structure.\n",
    "You always start to construct the **left** child node of the parent first if it exists.\n",
    "\n",
    "</aside>\n",
    "\n",
    "**Input:** s = \"4(2(3)(1))(6(5))\"\n",
    "\n",
    "**Output:** [4,2,6,3,1,5]"
   ]
  },
  {
   "cell_type": "code",
   "execution_count": 4,
   "id": "4a16c198",
   "metadata": {},
   "outputs": [],
   "source": [
    "class TreeNode:\n",
    "    def __init__(self, val=0, left=None, right=None):\n",
    "        self.val = val\n",
    "        self.left = left\n",
    "        self.right = right\n",
    "\n",
    "def str2tree(s):\n",
    "    if not s:\n",
    "        return None\n",
    "\n",
    "    val_end = s.find('(')\n",
    "    if val_end == -1:\n",
    "        return TreeNode(int(s))\n",
    "\n",
    "    root = TreeNode(int(s[:val_end]))\n",
    "\n",
    "    bal = 0\n",
    "    left_start = val_end\n",
    "    for i in range(val_end, len(s)):\n",
    "        if s[i] == '(':\n",
    "            bal += 1\n",
    "        elif s[i] == ')':\n",
    "            bal -= 1\n",
    "        if bal == 0 and left_start == val_end:\n",
    "            left_start = i + 1\n",
    "        if bal == -1:\n",
    "            break\n",
    "\n",
    "\n",
    "    root.left = str2tree(s[left_start:i])\n",
    "    root.right = str2tree(s[i+2:-1])\n",
    "\n",
    "    return root\n",
    "\n"
   ]
  },
  {
   "cell_type": "markdown",
   "id": "ead8a64a",
   "metadata": {},
   "source": [
    "### Explanation\n",
    "We define a TreeNode class to represent a node in the binary tree. Each node has a value (val) and pointers to its left and right children (left and right).\n",
    "\n",
    "We define the str2tree function that takes the input string s and returns the root of the constructed binary tree.\n",
    "\n",
    "If the input string s is empty, we return None to indicate an empty tree.\n",
    "\n",
    "We find the value of the root node by searching for the index of the first opening parenthesis '('. The value is the substring from the start of s up to val_end.\n",
    "\n",
    "If no opening parenthesis is found, it means s represents a single node with no children. We create a TreeNode with the value and return it.\n",
    "\n",
    "If there are opening parentheses, we initialize a bal variable to keep track of the balance of opening and closing parentheses. We also initialize left_start to val_end as the starting index of the substring for the left child.\n",
    "\n",
    "We iterate through the characters of s starting from val_end. If we encounter an opening parenthesis, we increment bal. If we encounter a closing parenthesis, we decrement bal. When bal becomes 0 (indicating a balanced pair of parentheses), we update left_start to the index of the next character (the start of the substring for the left child).\n",
    "\n",
    "We continue iterating until we find the closing parenthesis that matches the opening parenthesis of the root node. The index of this closing parenthesis is i.\n",
    "\n",
    "We recursively call str2tree with the substring for the left child, which is s[left_start:i]. This constructs the left subtree rooted at the left child of the root node.\n",
    "\n",
    "We recursively call str2tree with the substring for the right child, which is s[i+2:-1]. This constructs the right subtree rooted at the right child of the root node. We use i+2 to skip the closing parenthesis and the character immediately following it.\n",
    "\n",
    "We assign the constructed left and right subtrees to the left and right pointers of\n",
    "\n",
    "\n",
    "\n"
   ]
  },
  {
   "cell_type": "markdown",
   "id": "ab242f39",
   "metadata": {},
   "source": [
    "### Question 5\n",
    "\n",
    "Given an array of characters chars, compress it using the following algorithm:\n",
    "\n",
    "Begin with an empty string s. For each group of **consecutive repeating characters** in chars:\n",
    "\n",
    "- If the group's length is 1, append the character to s.\n",
    "- Otherwise, append the character followed by the group's length.\n",
    "\n",
    "The compressed string s **should not be returned separately**, but instead, be stored **in the input character array chars**. Note that group lengths that are 10 or longer will be split into multiple characters in chars.\n",
    "\n",
    "After you are done **modifying the input array,** return *the new length of the array*.\n",
    "\n",
    "You must write an algorithm that uses only constant extra space.\n",
    "\n",
    "**Example 1:**\n",
    "\n",
    "**Input:** chars = [\"a\",\"a\",\"b\",\"b\",\"c\",\"c\",\"c\"]\n",
    "\n",
    "**Output:** Return 6, and the first 6 characters of the input array should be: [\"a\",\"2\",\"b\",\"2\",\"c\",\"3\"]\n",
    "\n",
    "**Explanation:**\n",
    "\n",
    "The groups are \"aa\", \"bb\", and \"ccc\". This compresses to \"a2b2c3\".\n",
    "\n",
    "</aside>"
   ]
  },
  {
   "cell_type": "code",
   "execution_count": 5,
   "id": "9d30c70a",
   "metadata": {},
   "outputs": [
    {
     "data": {
      "text/plain": [
       "6"
      ]
     },
     "execution_count": 5,
     "metadata": {},
     "output_type": "execute_result"
    }
   ],
   "source": [
    "def compress(chars):\n",
    "    n = len(chars)\n",
    "    write_idx = 0\n",
    "    count = 1\n",
    "\n",
    "    for i in range(1, n + 1):\n",
    "        if i < n and chars[i] == chars[i - 1]:\n",
    "            count += 1\n",
    "        else:\n",
    "            chars[write_idx] = chars[i - 1]\n",
    "            write_idx += 1\n",
    "\n",
    "            if count > 1:\n",
    "                count_str = str(count)\n",
    "                for j in range(len(count_str)):\n",
    "                    chars[write_idx] = count_str[j]\n",
    "                    write_idx += 1\n",
    "\n",
    "            count = 1\n",
    "\n",
    "    return write_idx\n",
    "\n",
    "chars = [\"a\",\"a\",\"b\",\"b\",\"c\",\"c\",\"c\"]\n",
    "compress(chars)\n"
   ]
  },
  {
   "cell_type": "markdown",
   "id": "cf25d2da",
   "metadata": {},
   "source": [
    "### Explanation\n",
    "We initialize the length of the array chars as n.\n",
    "\n",
    "We initialize a write_idx variable to keep track of the current index where we will write the compressed characters.\n",
    "\n",
    "We initialize a count variable to keep track of the count of consecutive occurrences of the current character.\n",
    "\n",
    "We iterate through the characters of chars starting from the second character (i = 1).\n",
    "\n",
    "If the current character is the same as the previous character, we increment the count variable to track the number of consecutive occurrences.\n",
    "\n",
    "If the current character is different from the previous character or we have reached the end of the array, we:\n",
    "Write the previous character at the write_idx index.\n",
    "\n",
    "Increment the write_idx variable.\n",
    "\n",
    "Check if the count is greater than 1, indicating consecutive occurrences.\n",
    "\n",
    "If it is, we convert count to a string and iterate through its characters.\n",
    "\n",
    "For each character, we write it at the write_idx index and increment write_idx.\n",
    "\n",
    "Reset the count variable to 1 for the new character.\n",
    "\n",
    "Finally, we return the value of write_idx, which represents the new length of the array after compression."
   ]
  },
  {
   "cell_type": "markdown",
   "id": "66c984f5",
   "metadata": {},
   "source": [
    "### Question 6\n",
    "\n",
    "Given two strings s and p, return *an array of all the start indices of* p*'s anagrams in* s. You may return the answer in **any order**.\n",
    "\n",
    "An **Anagram** is a word or phrase formed by rearranging the letters of a different word or phrase, typically using all the original letters exactly once.\n",
    "\n",
    "**Example 1:**\n",
    "\n",
    "**Input:** s = \"cbaebabacd\", p = \"abc\"\n",
    "\n",
    "**Output:** [0,6]\n",
    "\n",
    "**Explanation:**\n",
    "\n",
    "The substring with start index = 0 is \"cba\", which is an anagram of \"abc\".\n",
    "\n",
    "The substring with start index = 6 is \"bac\", which is an anagram of \"abc\".\n",
    "\n",
    "</aside>"
   ]
  },
  {
   "cell_type": "code",
   "execution_count": 6,
   "id": "0ea36fca",
   "metadata": {},
   "outputs": [
    {
     "data": {
      "text/plain": [
       "[0, 6]"
      ]
     },
     "execution_count": 6,
     "metadata": {},
     "output_type": "execute_result"
    }
   ],
   "source": [
    "from collections import Counter\n",
    "\n",
    "def findAnagrams(s, p):\n",
    "    result = []\n",
    "    p_counter = Counter(p)\n",
    "    window_counter = Counter(s[:len(p)])\n",
    "\n",
    "    if window_counter == p_counter:\n",
    "        result.append(0)\n",
    "\n",
    "    for i in range(len(p), len(s)):\n",
    "        window_counter[s[i - len(p)]] -= 1\n",
    "        if window_counter[s[i - len(p)]] == 0:\n",
    "            del window_counter[s[i - len(p)]]\n",
    "\n",
    "        window_counter[s[i]] += 1\n",
    "\n",
    "        if window_counter == p_counter:\n",
    "            result.append(i - len(p) + 1)\n",
    "\n",
    "    return result\n",
    "\n",
    "s = \"cbaebabacd\"\n",
    "p = \"abc\"\n",
    "findAnagrams(s, p)\n"
   ]
  },
  {
   "cell_type": "markdown",
   "id": "680e582e",
   "metadata": {},
   "source": [
    "### Explanation\n",
    "\n",
    "We import the Counter class from the collections module to easily count the frequencies of characters in p and the sliding window of s.\n",
    "\n",
    "We initialize an empty list result to store the start indices of anagrams of p in s.\n",
    "\n",
    "We create a Counter object p_counter to count the frequencies of characters in p.\n",
    "\n",
    "We create a Counter object window_counter to count the frequencies of characters in the initial sliding window of length len(p) in s.\n",
    "\n",
    "We check if the frequency counts of characters in the window match the frequency counts of characters in p. If they match, it means the window is an anagram of p, and we append the start index 0 to the result list.\n",
    "\n",
    "We iterate through the remaining characters of s starting from index len(p) (i.e., the end of the initial window).\n",
    "\n",
    "In each iteration, we update the window by removing the leftmost character from the window and adding the current character at index i.\n",
    "\n",
    "We decrease the frequency count of the leftmost character by 1 in window_counter and remove it if its count becomes 0.\n",
    "\n",
    "We increase the frequency count of the current character by 1 in window_counter.\n",
    "\n",
    "We check if the frequency counts of characters in the window match the frequency counts of characters in p. If they match, we append the start index i - len(p) + 1 to the result list.\n",
    "\n",
    "Finally, we return the result list containing the start indices of all the anagrams of p in s."
   ]
  },
  {
   "cell_type": "markdown",
   "id": "3914a382",
   "metadata": {},
   "source": [
    "### Question 7\n",
    "\n",
    "Given an encoded string, return its decoded string.\n",
    "\n",
    "The encoding rule is: k[encoded_string], where the encoded_string inside the square brackets is being repeated exactly k times. Note that k is guaranteed to be a positive integer.\n",
    "\n",
    "You may assume that the input string is always valid; there are no extra white spaces, square brackets are well-formed, etc. Furthermore, you may assume that the original data does not contain any digits and that digits are only for those repeat numbers, k. For example, there will not be input like 3a or 2[4].\n",
    "\n",
    "The test cases are generated so that the length of the output will never exceed 105.\n",
    "\n",
    "**Example 1:**\n",
    "\n",
    "**Input:** s = \"3[a]2[bc]\"\n",
    "\n",
    "**Output:** \"aaabcbc\"\n",
    "\n",
    "</aside>"
   ]
  },
  {
   "cell_type": "code",
   "execution_count": 7,
   "id": "693bae51",
   "metadata": {},
   "outputs": [
    {
     "data": {
      "text/plain": [
       "'aaabcbc'"
      ]
     },
     "execution_count": 7,
     "metadata": {},
     "output_type": "execute_result"
    }
   ],
   "source": [
    "def decodeString(s):\n",
    "    stack = []\n",
    "    current_str = \"\"\n",
    "    current_num = 0\n",
    "\n",
    "    for char in s:\n",
    "        if char.isalpha():\n",
    "            current_str += char\n",
    "        elif char.isdigit():\n",
    "            current_num = current_num * 10 + int(char)\n",
    "        elif char == \"[\":\n",
    "            stack.append((current_str, current_num))\n",
    "            current_str = \"\"\n",
    "            current_num = 0\n",
    "        elif char == \"]\":\n",
    "            prev_str, prev_num = stack.pop()\n",
    "            current_str = prev_str + prev_num * current_str\n",
    "\n",
    "    return current_str\n",
    "\n",
    "s = \"3[a]2[bc]\"\n",
    "decodeString(s)"
   ]
  },
  {
   "cell_type": "markdown",
   "id": "6f1b25f4",
   "metadata": {},
   "source": [
    "### Explanation\n",
    "\n",
    "We initialize an empty stack to store the characters and numbers encountered while decoding the string.\n",
    "\n",
    "We initialize an empty string current_str to store the currently decoded string.\n",
    "\n",
    "We initialize a variable current_num to store the currently encountered number.\n",
    "\n",
    "We iterate through the characters of the input string s.\n",
    "\n",
    "If the current character is a letter, we append it to the current_str.\n",
    "\n",
    "If the current character is a digit, we extract the number by continuously multiplying the previous number by 10 and adding the current digit.\n",
    "\n",
    "If the current character is an opening square bracket [, we push the current number and the current decoded string (if any) to the stack. We also reset the current_str and current_num variables.\n",
    "\n",
    "If the current character is a closing square bracket ], we pop the topmost number from the stack (let's call it k). We also pop the characters from the stack until we encounter an opening square bracket. We multiply the popped characters by k and append it to the previously decoded string.\n",
    "\n",
    "After iterating through the entire string, we return the current_str, which represents the decoded string."
   ]
  },
  {
   "cell_type": "markdown",
   "id": "1d0e18b2",
   "metadata": {},
   "source": [
    "### Question 8\n",
    "\n",
    "Given two strings s and goal, return true *if you can swap two letters in* s *so the result is equal to* goal*, otherwise, return* false*.*\n",
    "\n",
    "Swapping letters is defined as taking two indices i and j (0-indexed) such that i != j and swapping the characters at s[i] and s[j].\n",
    "\n",
    "- For example, swapping at indices 0 and 2 in \"abcd\" results in \"cbad\".\n",
    "\n",
    "**Example 1:**\n",
    "\n",
    "**Input:** s = \"ab\", goal = \"ba\"\n",
    "\n",
    "**Output:** true\n",
    "\n",
    "**Explanation:** You can swap s[0] = 'a' and s[1] = 'b' to get \"ba\", which is equal to goal.\n",
    "\n",
    "</aside>"
   ]
  },
  {
   "cell_type": "code",
   "execution_count": 8,
   "id": "78bab3fa",
   "metadata": {},
   "outputs": [
    {
     "data": {
      "text/plain": [
       "True"
      ]
     },
     "execution_count": 8,
     "metadata": {},
     "output_type": "execute_result"
    }
   ],
   "source": [
    "def buddyStrings(s, goal):\n",
    "    if len(s) != len(goal):\n",
    "        return False\n",
    "\n",
    "    if s == goal:\n",
    "\n",
    "        seen = set()\n",
    "        for char in s:\n",
    "            if char in seen:\n",
    "                return True\n",
    "            seen.add(char)\n",
    "        return False\n",
    "\n",
    "    pairs = []\n",
    "    for char1, char2 in zip(s, goal):\n",
    "        if char1 != char2:\n",
    "            pairs.append((char1, char2))\n",
    "            if len(pairs) > 2:\n",
    "                return False\n",
    "\n",
    "    return len(pairs) == 2 and pairs[0] == pairs[1][::-1]\n",
    "\n",
    "s = \"ab\"\n",
    "goal = \"ba\"\n",
    "buddyStrings(s, goal)\n",
    "\n"
   ]
  },
  {
   "cell_type": "markdown",
   "id": "35268282",
   "metadata": {},
   "source": [
    "### Explanation\n",
    "\n",
    "We first check if the lengths of s and goal are equal. If they are not equal, it is not possible to swap two letters to obtain goal, so we return False.\n",
    "\n",
    "We check if s and goal are already equal. If they are equal, we need to check if there are at least two repeated characters in s. We use a set seen to keep track of the characters we have seen so far. If we encounter a character that is already in seen, it means we have found at least two repeated characters, and we return True. If we don't find two repeated characters, we return False.\n",
    "\n",
    "We create an empty list pairs to store the pairs of characters that need to be swapped.\n",
    "\n",
    "We iterate through s and goal simultaneously using the zip function. For each pair of characters, if they are not equal, we append the pair (char1, char2) to pairs.\n",
    "\n",
    "While iterating, if the length of pairs exceeds 2, it means we need to swap more than two letters, which is not allowed. In such a case, we return False.\n",
    "\n",
    "After iterating through all the characters, we check if the length of pairs is exactly 2 and if the first pair is the reverse of the second pair. If both conditions are met, it means we can swap two letters to obtain goal, and we return True. Otherwise, we return False."
   ]
  },
  {
   "cell_type": "code",
   "execution_count": null,
   "id": "c4a7753d",
   "metadata": {},
   "outputs": [],
   "source": []
  }
 ],
 "metadata": {
  "kernelspec": {
   "display_name": "Python 3 (ipykernel)",
   "language": "python",
   "name": "python3"
  },
  "language_info": {
   "codemirror_mode": {
    "name": "ipython",
    "version": 3
   },
   "file_extension": ".py",
   "mimetype": "text/x-python",
   "name": "python",
   "nbconvert_exporter": "python",
   "pygments_lexer": "ipython3",
   "version": "3.9.12"
  }
 },
 "nbformat": 4,
 "nbformat_minor": 5
}
