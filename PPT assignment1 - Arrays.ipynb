{
 "cells": [
  {
   "cell_type": "markdown",
   "id": "c7703d0f",
   "metadata": {},
   "source": [
    "💡 **Q1.** Given an array of integers nums and an integer target, return indices of the two numbers such that they add up to target.\n",
    "\n",
    "You may assume that each input would have exactly one solution, and you may not use the same element twice.\n",
    "\n",
    "You can return the answer in any order.\n",
    "\n",
    "**Example:**\n",
    "Input: nums = [2,7,11,15], target = 9\n",
    "Output0 [0,1]\n",
    "\n",
    "**Explanation:** Because nums[0] + nums[1] == 9, we return [0, 1]"
   ]
  },
  {
   "cell_type": "code",
   "execution_count": 1,
   "id": "cb091259",
   "metadata": {},
   "outputs": [
    {
     "name": "stdout",
     "output_type": "stream",
     "text": [
      "[0, 2]\n"
     ]
    }
   ],
   "source": [
    "#Code\n",
    "\n",
    "def twoSum(nums, target):\n",
    "    num_indices = {}\n",
    "    for i, num in enumerate(nums):\n",
    "        complement = target - num\n",
    "        if complement in num_indices:\n",
    "            return [num_indices[complement], i]\n",
    "        num_indices[num] = i\n",
    "    return []\n",
    "\n",
    "# Example usage\n",
    "nums = [2, 8, 13, 18]\n",
    "target = 15\n",
    "result = twoSum(nums, target)\n",
    "print(result)\n",
    "\n"
   ]
  },
  {
   "cell_type": "markdown",
   "id": "6f6cf8ea",
   "metadata": {},
   "source": [
    "#### Explanation\n",
    "Certainly! Let's go through the code step by step:\n",
    "\n",
    "1. The function `twoSum` takes two parameters: `nums`, which is the input array of integers, and `target`,\n",
    "which is the target sum we want to achieve.\n",
    "\n",
    "2. Inside the function, we create an empty dictionary called `num_indices`.\n",
    "This dictionary will store the elements of the array as keys and their indices as values.\n",
    "\n",
    "3. We then iterate through the array `nums` using the `enumerate` function.\n",
    "The `enumerate` function provides both the index and value of each element in the array for each iteration.\n",
    "\n",
    "4. For each element `num` at index `i`, we calculate the complement by subtracting `num` from the `target` value.\n",
    "The complement represents the value we need to find in the array that, when added to `num`, gives the target sum.\n",
    "\n",
    "5. We check if the complement exists in the `num_indices` dictionary by using the `in` operator.\n",
    "If it does, it means we have found a pair of numbers that add up to the target.\n",
    "\n",
    "6. If the complement exists in the dictionary, we return a list containing the indices of the current element `num` and\n",
    "its complement from the `num_indices` dictionary. The index of the complement is retrieved using `num_indices[complement]`, and the index of the current element is `i`.\n",
    "\n",
    "7. If the complement does not exist in the dictionary, we add the current element `num` to the `num_indices` dictionary,\n",
    "with its index `i` as the value. This allows us to keep track of the indices of previously visited elements.\n",
    "\n",
    "8. If we have iterated through the entire array without finding a pair that adds up to the target, we return an empty list.\n",
    "\n",
    "9. Finally, we demonstrate the usage of the `twoSum` function with the given example input.\n",
    "We pass the `nums` array `[2, 7, 11, 15]` and the target value `9` to the function. The returned result is stored in the `result` variable.\n",
    "\n",
    "10. We then print the result, which should be `[0, 1]`, indicating that the numbers at indices 0 and 1\n",
    "in the `nums` array add up to the target value of 9.\n",
    "\n",
    "The algorithm utilizes the two-pointer technique, which allows it to find the pair of numbers\n",
    "with a time complexity of O(n), where n is the length of the input array.\n",
    "By using a dictionary to store the elements and their indices, we can efficiently check for the complement in constant time."
   ]
  },
  {
   "cell_type": "markdown",
   "id": "5bb1c700",
   "metadata": {},
   "source": [
    "### Question 2\n",
    "💡 **Q2.** Given an integer array nums and an integer val, remove all occurrences of val in nums in-place.\n",
    "The order of the elements may be changed. Then return the number of elements in nums which are not equal to val.\n",
    "\n",
    "Consider the number of elements in nums which are not equal to val be k, to get accepted,\n",
    "you need to do the following things:\n",
    "\n",
    "- Change the array nums such that the first k elements of nums contain the elements which are not equal to val.\n",
    "  The remaining elements of nums are not important as well as the size of nums.\n",
    "  \n",
    "- Return k.\n",
    "\n",
    "**Example :**\n",
    "Input: nums = [3,2,2,3], val = 3\n",
    "Output: 2, nums = [2,2,_*,_*]\n",
    "\n",
    "**Explanation:** Your function should return k = 2, with the first two elements of nums being 2.\n",
    "It does not matter what you leave beyond the returned k (hence they are underscores)"
   ]
  },
  {
   "cell_type": "code",
   "execution_count": 2,
   "id": "b5d45507",
   "metadata": {},
   "outputs": [
    {
     "data": {
      "text/plain": [
       "2"
      ]
     },
     "execution_count": 2,
     "metadata": {},
     "output_type": "execute_result"
    }
   ],
   "source": [
    "#Code\n",
    "def RemovedVal(nums, val):\n",
    "    k= 0\n",
    "    for i in range(len(nums)):\n",
    "        if nums[i]!=val:\n",
    "            nums[k]=nums[i]\n",
    "            k = k+1\n",
    "    return k\n",
    "\n",
    "nums = [2,3,5,5]\n",
    "val = 5\n",
    "RemovedVal(nums, val)\n"
   ]
  },
  {
   "cell_type": "markdown",
   "id": "a11fe28d",
   "metadata": {},
   "source": [
    "\n",
    "#### Explanation\n",
    "The function `RemovedVal` takes two parameters: `nums`, which is the input array, and `val`, which is the value we want to remove.\n",
    "\n",
    "We initialize a variable `k` to keep track of the number of elements not equal to val. This will be the value we need to return at the end.\n",
    "\n",
    "We iterate through the array nums using a for loop and the range function. The loop variable i represents the current index.\n",
    "\n",
    "Inside the loop, we check if the current element `nums[i]` is not equal to `val`. If it's not equal, it means we want to keep this element.\n",
    "\n",
    "We move the element to the beginning of the array by assigning `nums[i]` to `nums[k]`. This effectively shifts the element to the left, overwriting the elements that are equal to val.\n",
    "\n",
    "After moving the element, we `increment k by 1` to indicate that we have found another element not equal to val.\n",
    "\n",
    "Once we finish iterating through the array, we have moved all the elements not equal to val to the beginning of the array, and k represents the number of such elements.\n",
    "\n",
    "We return `k` as the result.\n",
    "\n",
    "Finally, we demonstrate the usage of the removeElement function with the given example input. We pass the nums array `[2,3,5,5]` and the value `5` to the function. The returned result is stored in the variable k.\n",
    "\n",
    "We print k, which should be 2, indicating that there are two elements in nums that are not equal to `5`.\n",
    "\n",
    "We also print nums`[:k]` to show the modified nums array. The output should be `[2, 3]`, which represents the elements that are not equal to 3 and have been moved to the beginning of the array.\n",
    "\n",
    "The code modifies the nums array in-place and returns the number of elements not equal to val. The time complexity of the algorithm is O(n), where n is the length of the nums array."
   ]
  },
  {
   "cell_type": "markdown",
   "id": "174d3a23",
   "metadata": {},
   "source": [
    "### Question 3\n",
    "💡 **Q3.** Given a sorted array of distinct integers and a target value, return the index if the target is found. If not, return the index where it would be if it were inserted in order.\n",
    "\n",
    "You must write an algorithm with O(log n) runtime complexity.\n",
    "\n",
    "**Example 1:**\n",
    "Input: nums = [1,3,5,6], target = 5\n",
    "\n",
    "Output: 2\n",
    "\n"
   ]
  },
  {
   "cell_type": "code",
   "execution_count": 3,
   "id": "072c350c",
   "metadata": {},
   "outputs": [
    {
     "name": "stdout",
     "output_type": "stream",
     "text": [
      "3\n"
     ]
    }
   ],
   "source": [
    "def searchInsert(nums, target):\n",
    "    left = 0\n",
    "    right = len(nums) - 1\n",
    "\n",
    "    while left <= right:\n",
    "        mid = (left + right) // 2\n",
    "\n",
    "        if nums[mid] == target:\n",
    "            return mid\n",
    "        elif nums[mid] < target:\n",
    "            left = mid + 1\n",
    "        else:\n",
    "            right = mid - 1\n",
    "\n",
    "    return left\n",
    "\n",
    "# Example usage\n",
    "nums = [1, 4, 5, 7]\n",
    "target = 6\n",
    "index = searchInsert(nums, target)\n",
    "print(index)\n"
   ]
  },
  {
   "cell_type": "markdown",
   "id": "8415dc1b",
   "metadata": {},
   "source": [
    "### Explanation\n",
    "The function `searchInsert` takes two parameters: `nums`, which is the `sorted` array of distinct integers, and `target`,\n",
    "    which is the value we want to find or insert.\n",
    "\n",
    "We initialize two variables, `left` and `right`, to define the range of indices we are searching within.\n",
    "Initially, left is set to `0` (the leftmost index) and right is set to `len(nums) - 1` (the rightmost index).\n",
    "\n",
    "We enter a `while` loop that continues as long as left is less than or equal to right. \n",
    "This condition ensures that there is still a valid range to search within.\n",
    "\n",
    "Inside the `while` loop, we calculate the middle index using the formula (left + right) // 2.\n",
    "This is the index at the midpoint of the current range.\n",
    "\n",
    "We compare the value at the middle index, `nums[mid]`, with the target value. \n",
    "If they are equal, it means we have found the target in the array, so we return the middle index as the result.\n",
    "\n",
    "If `nums[mid]` is less than the `target`, it means the target should be located to the right of the middle index.\n",
    "In this case, we update left to `mid + 1` to search in the right half of the remaining range.\n",
    "\n",
    "If `nums[mid]` is greater than the `target`, it means the target should be located to the left of the middle index. \n",
    "In this case, we update right to `mid - 1` to search in the left half of the remaining range.\n",
    "\n",
    "We repeat steps 4-7 until the target is found or the range is exhausted (i.e., left becomes greater than right).\n",
    "\n",
    "If the target is not found in the array, we return left as the index where the target would be inserted in order. This is because left represents the rightmost index that is less than the target, so inserting the target at left + 1 would maintain the sorted order.\n",
    "\n",
    "Finally, we demonstrate the usage of the searchInsert function with the given example input. We pass the nums array [1, 3, 5, 6] and the target value 5 to the function. The returned result is stored in the index variable.\n",
    "\n",
    "We print index, which should be 2, indicating that the target value 5 is found at index 2 in the nums array.\n",
    "\n",
    "The binary search algorithm allows us to search for the target value or determine its insertion index in logarithmic time complexity O(log n), where n is the size of the input array nums."
   ]
  },
  {
   "cell_type": "markdown",
   "id": "184968a8",
   "metadata": {},
   "source": [
    "### Question 4\n",
    "💡 **Q4.** You are given a large integer represented as an integer array digits, where each digits[i] is the ith digit of the integer. The digits are ordered from most significant to least significant in left-to-right order. The large integer does not contain any leading 0's.\n",
    "\n",
    "Increment the large integer by one and return the resulting array of digits.\n",
    "\n",
    "**Example 1:**\n",
    "Input: digits = [1,2,3]\n",
    "Output: [1,2,4]\n",
    "\n",
    "**Explanation:** The array represents the integer 123.\n",
    "\n",
    "Incrementing by one gives 123 + 1 = 124.\n",
    "Thus, the result should be [1,2,4].\n"
   ]
  },
  {
   "cell_type": "code",
   "execution_count": 4,
   "id": "bd305a3f",
   "metadata": {},
   "outputs": [
    {
     "data": {
      "text/plain": [
       "[1, 3, 5]"
      ]
     },
     "execution_count": 4,
     "metadata": {},
     "output_type": "execute_result"
    }
   ],
   "source": [
    "#Code\n",
    "def plusOne(digits):\n",
    "    n = len(digits)\n",
    "    for i in range(n - 1, -1, -1):  # Start from the least significant digit\n",
    "        if digits[i] != 9:\n",
    "            digits[i] += 1\n",
    "            return digits\n",
    "        else:\n",
    "            digits[i] = 0\n",
    "\n",
    "    # If all digits were 9, add an additional digit 1 at the most significant end\n",
    "    return [1] + digits\n",
    "\n",
    "digits = [1,3,4]\n",
    "plusOne(digits)"
   ]
  },
  {
   "cell_type": "markdown",
   "id": "1f45a4f7",
   "metadata": {},
   "source": [
    "### Explanation\n",
    "The function `plusOne` takes the `digits` array as input.\n",
    "\n",
    "The length of the array is stored in the variable `n`.\n",
    "\n",
    "We iterate over the array in reverse order, starting from the least significant digit (index `n-1`) and going up to the most significant digit (index 0).\n",
    "\n",
    "Inside the loop, we check if the current digit is not 9. If it is not 9, we increment its value by 1 and return the modified `digits` array.\n",
    "\n",
    "If the current digit is 9, we set it to 0 and continue to the next digit towards the most significant end.\n",
    "\n",
    "If all digits in the array become 9 (which means we reached the most significant end of the number), we add an additional digit 1 at the most significant end of the array and return the modified `digits` array.\n",
    "\n",
    "This algorithm has a time complexity of O(n), where n is the length of the `digits` array."
   ]
  },
  {
   "cell_type": "markdown",
   "id": "56c12bc1",
   "metadata": {},
   "source": [
    "### Question 5\n",
    "💡 **Q5.** You are given two integer arrays nums1 and nums2, sorted in non-decreasing order, and two integers m and n, representing the number of elements in nums1 and nums2 respectively.\n",
    "\n",
    "Merge nums1 and nums2 into a single array sorted in non-decreasing order.\n",
    "\n",
    "The final sorted array should not be returned by the function, but instead be stored inside the array nums1. To accommodate this, nums1 has a length of m + n, where the first m elements denote the elements that should be merged, and the last n elements are set to 0 and should be ignored. nums2 has a length of n.\n",
    "\n",
    "**Example 1:**\n",
    "Input: nums1 = [1,2,3,0,0,0], m = 3, nums2 = [2,5,6], n = 3\n",
    "Output: [1,2,2,3,5,6]\n",
    "\n",
    "**Explanation:** The arrays we are merging are [1,2,3] and [2,5,6].\n",
    "The result of the merge is [1,2,2,3,5,6] with the underlined elements coming from nums1.\n"
   ]
  },
  {
   "cell_type": "code",
   "execution_count": 5,
   "id": "90e663b0",
   "metadata": {},
   "outputs": [
    {
     "name": "stdout",
     "output_type": "stream",
     "text": [
      "[1, 2, 2, 3, 5, 6]\n"
     ]
    }
   ],
   "source": [
    "#Code\n",
    "def merge(nums1, m, nums2, n):\n",
    "    p1 = m - 1  # Pointer for nums1\n",
    "    p2 = n - 1  # Pointer for nums2\n",
    "    p = m + n - 1  # Pointer for the merged array\n",
    "\n",
    "    # Compare elements from nums1 and nums2, and place the larger element at the end of nums1\n",
    "    while p1 >= 0 and p2 >= 0:\n",
    "        if nums1[p1] > nums2[p2]:\n",
    "            nums1[p] = nums1[p1]\n",
    "            p1 -= 1\n",
    "        else:\n",
    "            nums1[p] = nums2[p2]\n",
    "            p2 -= 1\n",
    "        p -= 1\n",
    "\n",
    "    # If there are any remaining elements in nums2, copy them to the front of nums1\n",
    "    nums1[:p2 + 1] = nums2[:p2 + 1]\n",
    "\n",
    "    return nums1\n",
    "\n",
    "# Example usage\n",
    "nums1 = [1, 2, 3, 0, 0, 0]\n",
    "m = 3\n",
    "nums2 = [2, 5, 6]\n",
    "n = 3\n",
    "\n",
    "merged_array = merge(nums1, m, nums2, n)\n",
    "print(merged_array)\n"
   ]
  },
  {
   "cell_type": "markdown",
   "id": "3845e385",
   "metadata": {},
   "source": [
    "### Explanation\n",
    "The function `merge` takes four parameters: `nums1`, `m`, `nums2`, and `n`. `nums1` is the target array with enough space to hold the merged elements, m is the number of valid elements in `nums1`, `nums2` is the second array to be merged, and `n` is the number of elements in `nums2`.\n",
    "\n",
    "We initialize three pointers: `p1` points to the last valid element of `nums1`,`p2` points to the last element of `nums2`, and `p` points to the last position of `nums1`, where the merged elements will be placed.\n",
    "\n",
    "We start merging the arrays from the rightmost positions. We compare the elements at `nums1[p1]` and `nums2[p2]` and place the larger element at `nums1[p]`.\n",
    "\n",
    "If `nums1[p1]` is greater than or equal to `nums2[p2]`, we store `nums1[p1]` at `nums1[p]`, decrement both `p1` and `p`, and continue comparing the elements at the previous positions.\n",
    "\n",
    "If `nums1[p1]` is smaller than `nums2[p2]`, we store `nums2[p2]` at `nums1[p]`, decrement both `p2` and `p`, and continue comparing the elements at the previous positions.\n",
    "\n",
    "We repeat this process until we have compared all the valid elements of `nums1` and `nums2`.\n",
    "\n",
    "If there are any remaining elements in `nums2`, we copy them to the remaining positions in `nums1`.\n",
    "\n",
    "The final result will be stored in `nums1`, where the merged elements are in non-decreasing order.\n",
    "\n",
    "This approach has a time complexity of O(m + n) since we traverse both arrays once, and a space complexity of O(1) since we are merging the arrays in-place without using any additional space."
   ]
  },
  {
   "cell_type": "markdown",
   "id": "3d7c43a4",
   "metadata": {},
   "source": [
    "### Question 6\n",
    "💡 **Q6.** Given an integer array nums, return true if any value appears at least twice in the array, and return false if every element is distinct.\n",
    "\n",
    "**Example 1:**\n",
    "Input: nums = [1,2,3,1]\n",
    "\n",
    "Output: true\n"
   ]
  },
  {
   "cell_type": "code",
   "execution_count": 6,
   "id": "b6f5d36b",
   "metadata": {},
   "outputs": [
    {
     "data": {
      "text/plain": [
       "False"
      ]
     },
     "execution_count": 6,
     "metadata": {},
     "output_type": "execute_result"
    }
   ],
   "source": [
    "def containsDuplicate(nums):\n",
    "    seen = set()\n",
    "    for num in nums:\n",
    "        if num in seen:\n",
    "            return True\n",
    "        seen.add(num)\n",
    "    return False\n",
    "\n",
    "nums = [1,3,4,5]\n",
    "containsDuplicate(nums)"
   ]
  },
  {
   "cell_type": "markdown",
   "id": "e70b005c",
   "metadata": {},
   "source": [
    "### Explanation\n",
    "We define a function `containsDuplicate` that takes an array `nums` as input.\n",
    "\n",
    "We create an empty set called `seen` to store the unique elements encountered so far.\n",
    "\n",
    "We iterate over each element `num` in the `nums` array.\n",
    "\n",
    "For each element, we check if it already exists in the `seen` set using the `in` operator. If it does, we know it's a duplicate, so we return `True`.\n",
    "\n",
    "If the element is not in the set, we add it to the `seen` set using the `add` method.\n",
    "\n",
    "After iterating through all the elements in the array, if we haven't found any duplicates, we return `False`.\n",
    "\n",
    "This approach has a time complexity of O(n) since we iterate over the array once, and the space complexity is also O(n) because we store unique elements in the set."
   ]
  },
  {
   "cell_type": "markdown",
   "id": "0ad23bd0",
   "metadata": {},
   "source": [
    "### Question 7\n",
    "💡 **Q7.** Given an integer array nums, move all 0's to the end of it while maintaining the relative order of the nonzero elements.\n",
    "\n",
    "Note that you must do this in-place without making a copy of the array.\n",
    "\n",
    "**Example 1:**\n",
    "Input: nums = [0,1,0,3,12]\n",
    "Output: [1,3,12,0,0]\n",
    "\n"
   ]
  },
  {
   "cell_type": "code",
   "execution_count": 7,
   "id": "8776c49f",
   "metadata": {},
   "outputs": [
    {
     "data": {
      "text/plain": [
       "[2, 3, 5, 6, 0, 0, 0]"
      ]
     },
     "execution_count": 7,
     "metadata": {},
     "output_type": "execute_result"
    }
   ],
   "source": [
    "def moveZeroes(nums):\n",
    "    j = 0  \n",
    "    \n",
    "    for i in range(len(nums)):\n",
    "        if nums[i] != 0:\n",
    "            nums[j] = nums[i]\n",
    "            j += 1\n",
    "    \n",
    "    while j < len(nums):\n",
    "        nums[j] = 0\n",
    "        j += 1\n",
    "    \n",
    "    return nums\n",
    "\n",
    "nums = [0,2,3,5,0,6,0]\n",
    "moveZeroes(nums)"
   ]
  },
  {
   "cell_type": "markdown",
   "id": "19de28d4",
   "metadata": {},
   "source": [
    "### Explanation\n",
    "We define the function `moveZeroes` that takes an array `nums` as input.\n",
    "\n",
    "We initialize a pointer `j` to `0`, which represents the index where we want to place the next non-zero element.\n",
    "\n",
    "We iterate through the array using the `range(len(nums))` construct, with the variable `i` representing the current index.\n",
    "Inside the loop, we check if the current element at index `i` is not equal to 0.\n",
    "\n",
    "If the element is not zero, it means it is a non-zero element. In that case, we copy it to the index `j` and increment `j` by 1. This effectively moves all non-zero elements to the front of the array while maintaining their relative order.\n",
    "\n",
    "After the loop, we have moved all non-zero elements to the front of the array. Now, we need to fill the remaining positions from index `j` to the end of the array with zeros.\n",
    "\n",
    "We use a `while` loop that continues until `j` reaches the length of the array. Inside the loop, we set each element at index `j` to 0, effectively moving all zeros to the end of the array.\n",
    "\n",
    "Finally, we return the modified `nums`` array using the `return` statement."
   ]
  },
  {
   "cell_type": "markdown",
   "id": "c4872654",
   "metadata": {},
   "source": [
    "### Question 8\n",
    "💡 **Q8.** You have a set of integers s, which originally contains all the numbers from 1 to n. Unfortunately, due to some error, one of the numbers in s got duplicated to another number in the set, which results in repetition of one number and loss of another number.\n",
    "\n",
    "You are given an integer array nums representing the data status of this set after the error.\n",
    "\n",
    "Find the number that occurs twice and the number that is missing and return them in the form of an array.\n",
    "\n",
    "**Example 1:**\n",
    "Input: nums = [1,2,2,4]\n",
    "Output: [2,3]\n",
    "\n"
   ]
  },
  {
   "cell_type": "code",
   "execution_count": 8,
   "id": "99a93060",
   "metadata": {},
   "outputs": [
    {
     "data": {
      "text/plain": [
       "[3, 1]"
      ]
     },
     "execution_count": 8,
     "metadata": {},
     "output_type": "execute_result"
    }
   ],
   "source": [
    "def findErrorNums(nums):\n",
    "    xor = 0\n",
    "    n = len(nums)\n",
    "    for i in range(1, n + 1):\n",
    "        xor ^= i\n",
    "    for num in nums:\n",
    "        xor ^= num\n",
    "    # Find the rightmost set bit in xor\n",
    "    rightmost_set_bit = xor & ~(xor - 1)\n",
    "    missing = 0\n",
    "    repeated = 0\n",
    "    for num in nums:\n",
    "        if num & rightmost_set_bit:\n",
    "            repeated ^= num\n",
    "        else:\n",
    "            missing ^= num\n",
    "    for i in range(1, n + 1):\n",
    "        if i & rightmost_set_bit:\n",
    "            repeated ^= i\n",
    "        else:\n",
    "            missing ^= i\n",
    "    return [repeated, missing]\n",
    "\n",
    "nums = [1,2,1,4]\n",
    "findErrorNums(nums)\n",
    "\n"
   ]
  },
  {
   "cell_type": "markdown",
   "id": "3e422859",
   "metadata": {},
   "source": [
    "### Explanation\n",
    "\n",
    "We define the function `findErrorNums` that takes an array `nums` as input.\n",
    "\n",
    "We initialize a variable `xor` to 0. This variable will store the XOR of all the numbers from 1 to n and the numbers in the `nums` array.\n",
    "\n",
    "We calculate the length of the `nums` array and store it in the variable `n`.\n",
    "\n",
    "We use a loop to XOR all the numbers from 1 to n with the numbers in the `nums` array.\n",
    "\n",
    "Next, we iterate through the `nums` array and XOR each element with the current value of `xor`.\n",
    "\n",
    "After XOR-ing all the numbers, the variable `xor` will contain the XOR of the missing number and the repeated number.\n",
    "To find the rightmost set bit in `xor`, we calculate `rightmost_set_bit` as the bitwise AND of `xor` and the two's complement of `xor - 1`.\n",
    "\n",
    "We initialize variables`missing` and `repeated` to 0. These variables will store the missing and repeated numbers, respectively.\n",
    "\n",
    "We iterate through the `nums` array again, and for each number, we check if the rightmost set bit is set.\n",
    "\n",
    "If the rightmost set bit is set, it means the number is repeated, so we XOR it with the `repeated` variable.\n",
    "\n",
    "If the rightmost set bit is not set, it means the number is missing, so we XOR it with the `missing` variable.\n",
    "\n",
    "We iterate through all the numbers from 1 to n, and for each number, we check if the rightmost set bit is set.\n",
    "\n",
    "If the rightmost set bit is set, it means the number is repeated, so we XOR it with the `repeated` variable.\n",
    "\n",
    "If the rightmost set bit is not set, it means the number is missing, so we XOR it with the `missing` variable.\n",
    "Finally, we return an array containing the `repeated` and `missing` numbers."
   ]
  },
  {
   "cell_type": "code",
   "execution_count": null,
   "id": "8e4c67b4",
   "metadata": {},
   "outputs": [],
   "source": [
    "\n"
   ]
  }
 ],
 "metadata": {
  "kernelspec": {
   "display_name": "Python 3 (ipykernel)",
   "language": "python",
   "name": "python3"
  },
  "language_info": {
   "codemirror_mode": {
    "name": "ipython",
    "version": 3
   },
   "file_extension": ".py",
   "mimetype": "text/x-python",
   "name": "python",
   "nbconvert_exporter": "python",
   "pygments_lexer": "ipython3",
   "version": "3.9.12"
  }
 },
 "nbformat": 4,
 "nbformat_minor": 5
}
