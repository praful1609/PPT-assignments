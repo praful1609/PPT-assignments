{
 "cells": [
  {
   "cell_type": "markdown",
   "id": "341c103b",
   "metadata": {},
   "source": [
    "### Question 1\n",
    "💡 **Question 1**\n",
    "Given an integer array nums of 2n integers, group these integers into n pairs (a1, b1), (a2, b2),..., (an, bn) such that the sum of min(ai, bi) for all i is maximized. Return the maximized sum.\n",
    "\n",
    "**Example 1:**\n",
    "Input: nums = [1,4,3,2]\n",
    "Output: 4\n",
    "\n",
    "**Explanation:** All possible pairings (ignoring the ordering of elements) are:\n",
    "\n",
    "1. (1, 4), (2, 3) -> min(1, 4) + min(2, 3) = 1 + 2 = 3\n",
    "2. (1, 3), (2, 4) -> min(1, 3) + min(2, 4) = 1 + 2 = 3\n",
    "3. (1, 2), (3, 4) -> min(1, 2) + min(3, 4) = 1 + 3 = 4\n",
    "So the maximum possible sum is 4\n"
   ]
  },
  {
   "cell_type": "code",
   "execution_count": 1,
   "id": "127666e7",
   "metadata": {},
   "outputs": [
    {
     "data": {
      "text/plain": [
       "4"
      ]
     },
     "execution_count": 1,
     "metadata": {},
     "output_type": "execute_result"
    }
   ],
   "source": [
    "def arrayPairSum(nums):\n",
    "    n = len(nums)\n",
    "    for i in range(n - 1):\n",
    "        for j in range(n - i - 1):\n",
    "            if nums[j] > nums[j + 1]:\n",
    "                nums[j], nums[j + 1] = nums[j + 1], nums[j]\n",
    "\n",
    "    max_sum = 0\n",
    "    for i in range(0, len(nums), 2):\n",
    "        max_sum += nums[i]\n",
    "    return max_sum\n",
    "\n",
    "nums=[1,4,3,2]\n",
    "arrayPairSum(nums)"
   ]
  },
  {
   "cell_type": "markdown",
   "id": "e984cacd",
   "metadata": {},
   "source": [
    "### Explanation:\n",
    "\n",
    "We start by implementing the bubble sort algorithm to sort the array in ascending order. This involves comparing adjacent elements and swapping them if they are in the wrong order. We repeat this process until the array is fully sorted.\n",
    "\n",
    "We initialize the variable `max_sum` to store the maximum sum of minimum values.\n",
    "\n",
    "We iterate over the sorted array using a step of 2, starting from index 0, as in the previous solution.\n",
    "\n",
    "Within each iteration, we add the current minimum value `nums[i]` to `max_sum`.\n",
    "\n",
    "Finally, we return the `max_sum`, which represents the maximum sum of the minimum values in the pairs.\n",
    "\n",
    "The logic of this code is the same as the previous solution, but instead of using the built-in sort() function, we implement the bubble sort algorithm to sort the array in ascending order. The rest of the code remains the same.\n",
    "\n",
    "The expected output for the given example `nums = [1, 4, 3, 2]` is still `4`."
   ]
  },
  {
   "cell_type": "markdown",
   "id": "97f17fab",
   "metadata": {},
   "source": [
    "### Question 2\n",
    "Alice has n candies, where the ith candy is of type candyType[i]. Alice noticed that she started to gain weight, so she visited a doctor. \n",
    "\n",
    "The doctor advised Alice to only eat n / 2 of the candies she has (n is always even). Alice likes her candies very much, and she wants to eat the maximum number of different types of candies while still following the doctor's advice. \n",
    "\n",
    "Given the integer array candyType of length n, return the maximum number of different types of candies she can eat if she only eats n / 2 of them.\n",
    "\n",
    "**Example 1**:\n",
    "Input: candyType = [1,1,2,2,3,3]\n",
    "Output: 3\n",
    "\n",
    "**Explanation**: Alice can only eat 6 / 2 = 3 candies. Since there are only 3 types, she can eat one of each type."
   ]
  },
  {
   "cell_type": "code",
   "execution_count": 2,
   "id": "15623797",
   "metadata": {},
   "outputs": [
    {
     "data": {
      "text/plain": [
       "3"
      ]
     },
     "execution_count": 2,
     "metadata": {},
     "output_type": "execute_result"
    }
   ],
   "source": [
    "def maxNumberOfTypes(candyType):\n",
    "    n = len(candyType)\n",
    "    max_types = n // 2  \n",
    "\n",
    "    unique_types = set()  \n",
    "    for candy in candyType:\n",
    "        unique_types.add(candy)\n",
    "\n",
    "    return min(len(unique_types), max_types)\n",
    "\n",
    "candyType = [1,1,2,2,3,3]\n",
    "maxNumberOfTypes(candyType)\n"
   ]
  },
  {
   "cell_type": "markdown",
   "id": "767baedc",
   "metadata": {},
   "source": [
    "### Explanation:\n",
    "\n",
    "We start by initializing the variable `max_types` to `n // 2`, which represents the maximum number of candy types Alice can eat.\n",
    "\n",
    "We create an empty set called `unique_types` to store the unique candy types.\n",
    "\n",
    "We iterate over each candy in the `candyType` array.\n",
    "\n",
    "Within each iteration, we add the current candy to the `unique_types` set using the `add()` method. This ensures that only unique candy types are added to the set.\n",
    "\n",
    "After iterating through all the candies, we use the `len()` function to get the number of unique candy types in the set.\n",
    "\n",
    "We return the minimum of `len(unique_types)` and `max_types`. This ensures that we return the maximum number of different types of candies Alice can eat while still following the doctor's advice.\n",
    "\n",
    "Let's apply this code to the given example: `candyType = [1, 1, 2, 2, 3, 3]`.\n",
    "\n",
    "The length of `candyType` is `6`, so `n` = `6`.\n",
    "\n",
    "`max_types` is `6 // 2 = 3`, since Alice can eat `n / 2 = 6 / 2 = 3` candies.\n",
    "\n",
    "Iterating over `candyType`, we add each candy to the `unique_types` set. The set will contain the unique candy types: `{1, 2, 3}`.\n",
    "\n",
    "After adding all the candies, the length of unique_types is `3`.\n",
    "\n",
    "Finally, we return the minimum of `len(unique_types)` (which is `3`) and `max_types` (which is also `3`).\n",
    "    \n",
    "Therefore, the code returns the correct result: `3`, which is the maximum number of different types of candies Alice can eat while still following the doctor's advice."
   ]
  },
  {
   "cell_type": "markdown",
   "id": "aa4eff1b",
   "metadata": {},
   "source": [
    "### Question 3\n",
    "We define a harmonious array as an array where the difference between its maximum value\n",
    "and its minimum value is exactly 1.\n",
    "\n",
    "Given an integer array nums, return the length of its longest harmonious subsequence\n",
    "among all its possible subsequences.\n",
    "\n",
    "A subsequence of an array is a sequence that can be derived from the array by deleting some or no elements without changing the order of the remaining elements.\n",
    "\n",
    "Example 1:\n",
    "Input: nums = [1,3,2,2,5,2,3,7]\n",
    "Output: 5\n",
    "\n",
    "Explanation: The longest harmonious subsequence is [3,2,2,2,3]."
   ]
  },
  {
   "cell_type": "code",
   "execution_count": 3,
   "id": "7333ffb7",
   "metadata": {},
   "outputs": [
    {
     "name": "stdout",
     "output_type": "stream",
     "text": [
      "5\n"
     ]
    }
   ],
   "source": [
    "def findLHS(nums):\n",
    "    count = {}\n",
    "    max_length = 0\n",
    "    \n",
    "    for num in nums:\n",
    "        count[num] = count.get(num, 0) + 1\n",
    "\n",
    "    for num in nums:\n",
    "        if num + 1 in count:\n",
    "            length = count[num] + count[num + 1]\n",
    "            max_length = max(max_length, length)\n",
    "    \n",
    "    return max_length\n",
    "\n",
    "nums = [1, 3, 2, 2, 5, 2, 3, 7]\n",
    "print(findLHS(nums))\n",
    "\n"
   ]
  },
  {
   "cell_type": "markdown",
   "id": "9a709894",
   "metadata": {},
   "source": [
    "### Explanation:\n",
    "\n",
    "The `findLHS` function takes an input `nums`, which is the given integer array.\n",
    "\n",
    "The `count` dictionary is created to store the frequency of each number in `nums`. The count dictionary is initialized as an empty dictionary.\n",
    "\n",
    "In the first loop, we iterate through `nums` and count the frequency of each number using the `count.get(num, 0) + 1 expression`. This increments the count of the current number in the count dictionary.\n",
    "\n",
    "For example, in the given input `nums = [1, 3, 2, 2, 5, 2, 3, 7]`, the count dictionary will be populated as follows: `{1: 1, 3: 2, 2: 3, 5: 1, 7: 1}`.\n",
    "In the second loop, we iterate through the numbers in `nums` again.\n",
    "\n",
    "For each number `num`, we check if `num + 1` exists in the `count` dictionary. If it does, it means that there is a harmonious subsequence that can be formed with `num` and `num + 1`.\n",
    "\n",
    "In the example, when num = 2, num + 1 is 3, which exists in the count dictionary with a frequency of 2. So, we can form a harmonious subsequence [2, 3] with a length of 2 + 2 = 4.\n",
    "We calculate the length of the harmonious subsequence as length = count[num] + count[num + 1].\n",
    "\n",
    "We update the max_length variable with the maximum length found so far.\n",
    "\n",
    "After iterating through all the numbers in nums, we return the `max_length` as the result.\n",
    "\n",
    "In the example, the longest harmonious subsequence found is [2, 2, 2, 3, 3] with a length of 5, which is returned as the output."
   ]
  },
  {
   "cell_type": "markdown",
   "id": "714009cf",
   "metadata": {},
   "source": [
    "### Question 4\n",
    "You have a long flowerbed in which some of the plots are planted, and some are not.However, flowers cannot be planted in adjacent plots.\n",
    "\n",
    "Given an integer array flowerbed containing 0's and 1's, where 0 means empty and 1 means not empty, and an integer n, return true if n new flowers can be planted in the flowerbed without violating the no-adjacent-flowers rule and false otherwise.\n",
    "\n",
    "Example 1:\n",
    "Input: flowerbed = [1,0,0,0,1], n = 1\n",
    "Output: true"
   ]
  },
  {
   "cell_type": "code",
   "execution_count": 4,
   "id": "8ff1b6e2",
   "metadata": {},
   "outputs": [
    {
     "name": "stdout",
     "output_type": "stream",
     "text": [
      "True\n"
     ]
    }
   ],
   "source": [
    "def canPlaceFlowers(flowerbed, n):\n",
    "    count = 0\n",
    "    i = 0\n",
    "    \n",
    "    while i < len(flowerbed):\n",
    "        if flowerbed[i] == 0 and (i == 0 or flowerbed[i-1] == 0) and (i == len(flowerbed)-1 or flowerbed[i+1] == 0):\n",
    "            flowerbed[i] = 1\n",
    "            count += 1\n",
    "        i += 1\n",
    "        \n",
    "    return count >= n\n",
    "\n",
    "flowerbed = [1, 0, 0, 0, 1]\n",
    "n = 1\n",
    "print(canPlaceFlowers(flowerbed, n))\n"
   ]
  },
  {
   "cell_type": "markdown",
   "id": "15e5587a",
   "metadata": {},
   "source": [
    "### Explanation:\n",
    "\n",
    "The `canPlaceFlowers` function takes two inputs: `flowerbed`, which is the array representing the flowerbed, and `n`, which is the number of new flowers we want to plant.\n",
    "\n",
    "The variable `count` is initialized to `0`. This variable will keep track of the number of new flowers planted in the flowerbed.\n",
    "\n",
    "The variable `i` is initialized to 0, representing the current position in the flowerbed.\n",
    "\n",
    "We enter a while loop that continues until we reach the end of the flowerbed.\n",
    "\n",
    "Inside the loop, we check if the current position `i` is a valid spot to plant a flower. To be a valid spot, the following conditions must be met:\n",
    "\n",
    "The current position is empty (flowerbed[i] == 0).\n",
    "The previous position is also empty or it's the first position in the flowerbed (i == 0 or flowerbed[i-1] == 0).\n",
    "The next position is also empty or it's the last position in the flowerbed (i == len(flowerbed)-1 or flowerbed[i+1] == 0).\n",
    "If the conditions are met, we mark the current position as planted by setting flowerbed[i] = 1, and we increment the count by `1`.\n",
    "\n",
    "After processing the current position, we move to the next position by incrementing i by `1`.\n",
    "\n",
    "Once we finish iterating through the flowerbed, we check if the count of newly planted flowers is greater than or equal to `n`.\n",
    "\n",
    "If the count is greater than or equal to n, it means that we can plant n new flowers in the flowerbed without violating the no-adjacent-flowers rule. In this case, the function returns `True`.\n",
    "\n",
    "If the count is less than n, it means that there are not enough available spots to plant all the new flowers without violating the rule. In this case, the function returns `False`.\n",
    "\n",
    "In the given example, the flowerbed is [1, 0, 0, 0, 1] and we want to plant 1 new flower. The function determines that we can plant the new flower at the second position (index 1) in the flowerbed without violating the rule, so it returns True."
   ]
  },
  {
   "cell_type": "markdown",
   "id": "83050ce6",
   "metadata": {},
   "source": [
    "### Question 5\n",
    "Given an integer array nums, find three numbers whose product is maximum and return the maximum product.\n",
    "\n",
    "Example 1:\n",
    "Input: nums = [1,2,3]\n",
    "Output: 6"
   ]
  },
  {
   "cell_type": "code",
   "execution_count": 5,
   "id": "562816f8",
   "metadata": {},
   "outputs": [
    {
     "name": "stdout",
     "output_type": "stream",
     "text": [
      "6\n"
     ]
    }
   ],
   "source": [
    "def maximumProduct(nums):\n",
    "    nums.sort()\n",
    "    product1 = nums[-1] * nums[-2] * nums[-3]\n",
    "    product2 = nums[0] * nums[1] * nums[-1]\n",
    "    \n",
    "    return max(product1, product2)\n",
    "\n",
    "nums = [1, 2, 3]\n",
    "print(maximumProduct(nums))\n"
   ]
  },
  {
   "cell_type": "markdown",
   "id": "e19c4a9a",
   "metadata": {},
   "source": [
    "### Explanation:\n",
    "\n",
    "The `maximumProduct` function takes an input `nums`, which is the given integer array.\n",
    "\n",
    "We sort the array nums in ascending order using the `sort()` method. Sorting the array helps us identify the smallest and largest numbers easily.\n",
    "\n",
    "In the example, sorting `[1, 2, 3]` gives us `[1, 2, 3]`.\n",
    "We consider two cases to calculate the maximum product:\n",
    "\n",
    "Case 1: The product of the three largest positive numbers in the array, which is calculated as `product1 = nums[-1] * nums[-2] * nums[-3]`.\n",
    "\n",
    "In the example, product1 = 3 * 2 * 1 = 6.\n",
    "Case 2: The product of the two smallest negative numbers (if present) and the largest positive number in the array, which is calculated as `product2 = nums[0] * nums[1] * nums[-1]`.\n",
    "\n",
    "In the example, there are no negative numbers, so `product2` is not applicable.\n",
    "Finally, we return the maximum value between `product1` and `product2` using the max() function.\n",
    "\n",
    "In the example, since product1 is 6 and product2 is not applicable, the function returns 6 as the maximum product of three numbers in the array."
   ]
  },
  {
   "cell_type": "markdown",
   "id": "850a6ba1",
   "metadata": {},
   "source": [
    "### Question 6\n",
    "Given an array of integers nums which is sorted in ascending order, and an integer target,\n",
    "write a function to search target in nums. If target exists, then return its index. Otherwise,\n",
    "return -1.\n",
    "\n",
    "You must write an algorithm with O(log n) runtime complexity.\n",
    "\n",
    "Input: nums = [-1,0,3,5,9,12], target = 9\n",
    "Output: 4\n",
    "\n",
    "Explanation: 9 exists in nums and its index is 4"
   ]
  },
  {
   "cell_type": "code",
   "execution_count": 6,
   "id": "fd0d4f71",
   "metadata": {},
   "outputs": [
    {
     "name": "stdout",
     "output_type": "stream",
     "text": [
      "4\n"
     ]
    }
   ],
   "source": [
    "def search(nums, target):\n",
    "    left = 0\n",
    "    right = len(nums) - 1\n",
    "    \n",
    "    while left <= right:\n",
    "        mid = left + (right - left) // 2\n",
    "        \n",
    "        if nums[mid] == target:\n",
    "            return mid\n",
    "        \n",
    "        if nums[mid] < target:\n",
    "            left = mid + 1\n",
    "        else:\n",
    "            right = mid - 1\n",
    "    \n",
    "    return -1\n",
    "\n",
    "nums = [-1, 0, 3, 5, 9, 12]\n",
    "target = 9\n",
    "print(search(nums, target))\n"
   ]
  },
  {
   "cell_type": "markdown",
   "id": "f25733bd",
   "metadata": {},
   "source": [
    "### Explanation:\n",
    "\n",
    "The `search` function takes two inputs: `nums`, which is the sorted array of integers, and `target`, which is the value we want to search for.\n",
    "\n",
    "We initialize two pointers, `left` and `right`, representing the leftmost and rightmost indices of the current search range. Initially, `left` is set to 0, and `right` is set to `len(nums) - 1`.\n",
    "\n",
    "We enter a while loop that continues as long as `left` is less than or equal to `right`. This loop performs the binary search algorithm.\n",
    "\n",
    "Inside the loop, we calculate the middle index, `mid`, as the average of `left` and `right` using the formula `mid = left + (right - left) // 2`. The use of integer division // ensures we get an integer index.\n",
    "\n",
    "We compare the value at `nums[mid]` with the target value.\n",
    "\n",
    "If they are equal, it means we have found the target, so we return the index mid.\n",
    "\n",
    "If `nums[mid]` is less than the target, it means the target should be located in the right half of the remaining search range. In this case, we update `left = mid + 1` to narrow down the search range to the right half.\n",
    "\n",
    "If `nums[mid]` is greater than the target, it means the target should be located in the left half of the remaining search range. In this case, we update `right = mid - 1` to narrow down the search range to the left half.\n",
    "\n",
    "If the while loop finishes without finding the target, it means the target does not exist in the array. In this case, we return -1 to indicate that the target was not found.\n",
    "\n",
    "In the given example, the sorted array nums = [-1, 0, 3, 5, 9, 12] is provided, and the target is 9. The binary search algorithm finds the target at index 4, so the function returns 4 as the output.\n",
    "\n",
    "\n",
    "\n",
    "\n",
    "\n",
    "\n"
   ]
  },
  {
   "cell_type": "markdown",
   "id": "c4617e52",
   "metadata": {},
   "source": [
    "### Question 7\n",
    "An array is monotonic if it is either monotone increasing or monotone decreasing.\n",
    "\n",
    "An array nums is monotone increasing if for all i <= j, nums[i] <= nums[j]. An array nums is\n",
    "monotone decreasing if for all i <= j, nums[i] >= nums[j].\n",
    "\n",
    "Given an integer array nums, return true if the given array is monotonic, or false otherwise.\n",
    "\n",
    "Example 1:\n",
    "Input: nums = [1,2,2,3]\n",
    "Output: true"
   ]
  },
  {
   "cell_type": "code",
   "execution_count": 7,
   "id": "4cd7d3b1",
   "metadata": {},
   "outputs": [
    {
     "name": "stdout",
     "output_type": "stream",
     "text": [
      "True\n"
     ]
    }
   ],
   "source": [
    "def isMonotonic(nums):\n",
    "    is_increasing = True\n",
    "    is_decreasing = True\n",
    "    \n",
    "    for i in range(1, len(nums)):\n",
    "        if nums[i] < nums[i-1]:\n",
    "            is_increasing = False\n",
    "        if nums[i] > nums[i-1]:\n",
    "            is_decreasing = False\n",
    "    \n",
    "    return is_increasing or is_decreasing\n",
    "\n",
    "nums = [1, 2, 2, 3]\n",
    "print(isMonotonic(nums))\n"
   ]
  },
  {
   "cell_type": "markdown",
   "id": "e4f6f574",
   "metadata": {},
   "source": [
    "### Explanation:\n",
    "\n",
    "The `isMonotonic` function takes an input `nums`, which is the given integer array.\n",
    "\n",
    "We initialize two boolean variables, `is_increasing` and `is_decreasing`, as True. These variables will keep track of whether the array is non-increasing or non-decreasing, respectively.\n",
    "\n",
    "We iterate through the elements of the array starting from index 1.\n",
    "\n",
    "For each element `nums[i]`, we compare it with the previous element `nums[i-1]`.\n",
    "\n",
    "If `nums[i]` is less than `nums[i-1]`, it means the array is not non-increasing (monotone increasing), so we set `is_increasing` to False.\n",
    "\n",
    "If `nums[i]` is greater than nums`[i-1]`, it means the array is not non-decreasing (monotone decreasing), so we set `is_decreasing` to False.\n",
    "\n",
    "After iterating through all the elements, we check if either is_increasing or is_decreasing is True.\n",
    "\n",
    "If either of them is True, it means the array is either monotone increasing or monotone decreasing. In this case, the function returns True.\n",
    "\n",
    "If both `is_increasing` and `is_decreasing` are False, it means the array is neither monotone increasing nor monotone decreasing. In this case, the function returns False.\n",
    "\n",
    "In the given example, the array nums =`[1, 2, 2, 3]` is provided. The function determines that the array is non-decreasing (monotone increasing) since all adjacent elements are either equal or in increasing order. Therefore, the function returns True as the output."
   ]
  },
  {
   "cell_type": "markdown",
   "id": "da5de757",
   "metadata": {},
   "source": [
    "### Question 8\n",
    "You are given an integer array nums and an integer k.\n",
    "\n",
    "In one operation, you can choose any index i where 0 <= i < nums.length and change nums[i] to nums[i] + x where x is an integer from the range [-k, k]. You can apply this operation at most once for each index i.\n",
    "\n",
    "The score of nums is the difference between the maximum and minimum elements in nums.\n",
    "\n",
    "Return the minimum score of nums after applying the mentioned operation at most once for each index in it.\n",
    "\n",
    "Example 1:\n",
    "Input: nums = [1], k = 0\n",
    "Output: 0\n",
    "\n",
    "Explanation: The score is max(nums) - min(nums) = 1 - 1 = 0."
   ]
  },
  {
   "cell_type": "code",
   "execution_count": 8,
   "id": "91fcefec",
   "metadata": {},
   "outputs": [
    {
     "name": "stdout",
     "output_type": "stream",
     "text": [
      "0\n"
     ]
    }
   ],
   "source": [
    "def minScore(nums, k):\n",
    "    minimum = min(nums)\n",
    "    maximum = max(nums)\n",
    "    \n",
    "    if maximum - minimum <= 2 * k:\n",
    "        return 0\n",
    "    \n",
    "    return maximum - minimum - 2 * k\n",
    "\n",
    "nums = [1]\n",
    "k = 0\n",
    "print(minScore(nums, k))\n"
   ]
  },
  {
   "cell_type": "markdown",
   "id": "e9c3a409",
   "metadata": {},
   "source": [
    "### Explanation\n",
    "The `minScore` function takes two inputs: `nums`, which is the given integer array, and `k`, which is the integer range for the operation.\n",
    "\n",
    "We find the minimum value in `nums` using the `min()` function and assign it to the variable `minimum`.\n",
    "\n",
    "In the given example, the minimum value of the array `[1]` is 1.\n",
    "We find the maximum value in `nums` using the `max()` function and assign it to the variable `maximum`.\n",
    "\n",
    "In the given example, the maximum value of the array `[1]` is 1.\n",
    "We calculate the difference between the maximum and minimum values as `maximum` - `minimum`.\n",
    "\n",
    "In the given example, the difference is 1 - 1 = 0.\n",
    "We check if the difference between the maximum and minimum values is less than or equal to 2 * `k`.\n",
    "\n",
    "In the given example, the difference is equal to 0, which is less than or equal to 2 * 0 = 0.\n",
    "If the difference is less than or equal to 2 * k, it means we can obtain a lower score by adjusting the minimum and maximum values using the operation. In this case, we return 0 as the minimum score.\n",
    "\n",
    "If the difference is greater than 2 * k, it means adjusting the minimum and maximum values will not yield a lower score. In this case, we calculate the minimum score as `maximum - minimum - 2 * k` and return it.\n",
    "\n",
    "In the given example, since the difference is 0, we return 0 as the minimum score.\n",
    "Therefore, the function returns 0 as the minimum score of the array [1] after applying the operation."
   ]
  },
  {
   "cell_type": "code",
   "execution_count": null,
   "id": "dfa325c0",
   "metadata": {},
   "outputs": [],
   "source": []
  }
 ],
 "metadata": {
  "kernelspec": {
   "display_name": "Python 3 (ipykernel)",
   "language": "python",
   "name": "python3"
  },
  "language_info": {
   "codemirror_mode": {
    "name": "ipython",
    "version": 3
   },
   "file_extension": ".py",
   "mimetype": "text/x-python",
   "name": "python",
   "nbconvert_exporter": "python",
   "pygments_lexer": "ipython3",
   "version": "3.9.12"
  }
 },
 "nbformat": 4,
 "nbformat_minor": 5
}
